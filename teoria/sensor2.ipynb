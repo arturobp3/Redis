{
 "cells": [
  {
   "cell_type": "markdown",
   "metadata": {},
   "source": [
    "## Sensor2\n",
    "\n",
    "\n",
    "Notebook auxiliar para redis. Simula la emisión de datos por parte de un sensor"
   ]
  },
  {
   "cell_type": "code",
   "execution_count": 1,
   "metadata": {},
   "outputs": [],
   "source": [
    "## Ojo estos datos deben ser los mismos del notebook redis\n",
    "redisconexion = \"redis-12588.c135.eu-central-1-1.ec2.cloud.redislabs.com\"  # será algo de la forma \"...ec2.cloud.redislabs.com\"\n",
    "redispuerto = 12588 # cambiar solo si es diferente\n",
    "passwd = \"YNUBRlaFh6kJnTKfDxsXur44M3jOkNqy\" # poner el passwd correspondiente\n"
   ]
  },
  {
   "cell_type": "code",
   "execution_count": 3,
   "metadata": {},
   "outputs": [],
   "source": [
    "# generador de datos para la pregunta 3 y 4\n",
    "import time\n",
    "import  redis\n",
    "from random import randint\n",
    "\n",
    "r = redis.Redis(host=redisconexion, password=passwd, port=redispuerto, charset=\"utf-8\", decode_responses=True, db=0)\n",
    "\n",
    "if r.ping():\n",
    "   # milisegundos\n",
    "   lapse = 10\n",
    "   t = 0\n",
    "   start = time.time()\n",
    "   while time.time() - start<120:\n",
    "        datos = {\"sensorTime\":t,\"sensorValue\": randint(0, 9) }\n",
    "        r.mset(datos)\n",
    "        time.sleep(lapse/1000)\n",
    "        t+=lapse\n",
    "else:## Ojo estos datos deben ser los mismos del notebook redis\n",
    "    print(\"Fallo en la conex. Iniciaste el servidor?\")"
   ]
  },
  {
   "cell_type": "code",
   "execution_count": null,
   "metadata": {},
   "outputs": [],
   "source": []
  }
 ],
 "metadata": {
  "kernelspec": {
   "display_name": "Python 3",
   "language": "python",
   "name": "python3"
  },
  "language_info": {
   "codemirror_mode": {
    "name": "ipython",
    "version": 3
   },
   "file_extension": ".py",
   "mimetype": "text/x-python",
   "name": "python",
   "nbconvert_exporter": "python",
   "pygments_lexer": "ipython3",
   "version": "3.7.6"
  }
 },
 "nbformat": 4,
 "nbformat_minor": 2
}
