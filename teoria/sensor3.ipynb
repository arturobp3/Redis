{
 "cells": [
  {
   "cell_type": "markdown",
   "metadata": {},
   "source": [
    "### Sensor 3\n",
    "\n",
    "Simula un sensor almacenando solo los 10 últimos valores del sensor"
   ]
  },
  {
   "cell_type": "code",
   "execution_count": 2,
   "metadata": {},
   "outputs": [],
   "source": [
    "## Ojo estos datos deben ser los mismos del notebook redis\n",
    "redisconexion = \"\"  # será algo de la forma \"...ec2.cloud.redislabs.com\"\n",
    "redispuerto = 13665 # cambiar solo si es diferente\n",
    "passwd = \"\" # poner el passwd correspondiente\n"
   ]
  },
  {
   "cell_type": "code",
   "execution_count": 3,
   "metadata": {},
   "outputs": [
    {
     "name": "stdout",
     "output_type": "stream",
     "text": [
      "3\n",
      "5\n",
      "1\n",
      "1\n",
      "6\n",
      "7\n",
      "6\n",
      "6\n",
      "0\n",
      "9\n",
      "0\n",
      "8\n",
      "3\n",
      "7\n",
      "2\n",
      "4\n",
      "6\n",
      "9\n",
      "5\n",
      "7\n",
      "7\n",
      "7\n",
      "2\n",
      "1\n",
      "0\n",
      "3\n",
      "8\n",
      "9\n",
      "4\n",
      "3\n",
      "1\n",
      "5\n",
      "9\n",
      "7\n"
     ]
    },
    {
     "ename": "KeyboardInterrupt",
     "evalue": "",
     "output_type": "error",
     "traceback": [
      "\u001b[1;31m---------------------------------------------------------------------------\u001b[0m",
      "\u001b[1;31mKeyboardInterrupt\u001b[0m                         Traceback (most recent call last)",
      "\u001b[1;32m<ipython-input-3-f1784141c460>\u001b[0m in \u001b[0;36m<module>\u001b[1;34m\u001b[0m\n\u001b[0;32m     13\u001b[0m         \u001b[0mr\u001b[0m\u001b[1;33m.\u001b[0m\u001b[0mltrim\u001b[0m\u001b[1;33m(\u001b[0m\u001b[1;34m\"lsensor\"\u001b[0m\u001b[1;33m,\u001b[0m\u001b[1;36m0\u001b[0m\u001b[1;33m,\u001b[0m\u001b[1;36m10\u001b[0m\u001b[1;33m)\u001b[0m \u001b[1;31m# nunca más de 10 datos\u001b[0m\u001b[1;33m\u001b[0m\u001b[1;33m\u001b[0m\u001b[0m\n\u001b[0;32m     14\u001b[0m         \u001b[0mprint\u001b[0m\u001b[1;33m(\u001b[0m\u001b[0mvalor\u001b[0m\u001b[1;33m)\u001b[0m\u001b[1;33m\u001b[0m\u001b[1;33m\u001b[0m\u001b[0m\n\u001b[1;32m---> 15\u001b[1;33m         \u001b[0mtime\u001b[0m\u001b[1;33m.\u001b[0m\u001b[0msleep\u001b[0m\u001b[1;33m(\u001b[0m\u001b[0mrandint\u001b[0m\u001b[1;33m(\u001b[0m\u001b[1;36m1\u001b[0m\u001b[1;33m,\u001b[0m \u001b[1;36m5\u001b[0m\u001b[1;33m)\u001b[0m\u001b[1;33m)\u001b[0m\u001b[1;33m\u001b[0m\u001b[1;33m\u001b[0m\u001b[0m\n\u001b[0m\u001b[0;32m     16\u001b[0m \u001b[1;33m\u001b[0m\u001b[0m\n\u001b[0;32m     17\u001b[0m \u001b[1;32melse\u001b[0m\u001b[1;33m:\u001b[0m\u001b[1;33m\u001b[0m\u001b[1;33m\u001b[0m\u001b[0m\n",
      "\u001b[1;31mKeyboardInterrupt\u001b[0m: "
     ]
    }
   ],
   "source": [
    "# P7\n",
    "import time\n",
    "import  redis\n",
    "from random import randint\n",
    "\n",
    "r = redis.Redis(host=redisconexion, password=passwd, port=redispuerto, charset=\"utf-8\", decode_responses=True, db=0)\n",
    "\n",
    "if r.ping():\n",
    "    start = time.time()\n",
    "    while time.time() - start<120:\n",
    "        valor = randint(0, 9)\n",
    "        r.lpush(\"lsensor\",valor)\n",
    "        r.ltrim(\"lsensor\",0,10) # nunca más de 10 datos\n",
    "        print(valor)\n",
    "        time.sleep(randint(1, 5))\n",
    "        \n",
    "else:\n",
    "   print(\"Fallo en la conex. Iniciaste el servidor?\")"
   ]
  },
  {
   "cell_type": "code",
   "execution_count": null,
   "metadata": {},
   "outputs": [],
   "source": []
  },
  {
   "cell_type": "code",
   "execution_count": null,
   "metadata": {},
   "outputs": [],
   "source": []
  }
 ],
 "metadata": {
  "kernelspec": {
   "display_name": "Python 3",
   "language": "python",
   "name": "python3"
  },
  "language_info": {
   "codemirror_mode": {
    "name": "ipython",
    "version": 3
   },
   "file_extension": ".py",
   "mimetype": "text/x-python",
   "name": "python",
   "nbconvert_exporter": "python",
   "pygments_lexer": "ipython3",
   "version": "3.7.4"
  }
 },
 "nbformat": 4,
 "nbformat_minor": 2
}
