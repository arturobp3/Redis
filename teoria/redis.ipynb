{
 "cells": [
  {
   "cell_type": "markdown",
   "metadata": {},
   "source": [
    "![title](https://cdn-images-1.medium.com/max/1200/1*i1d88Q8NNrRv6kjf7Ssw4g.png)\n",
    "\n",
    "# Introducción a Redis\n",
    "\n",
    "\n",
    "Se trata de una base de datos clave valor con las siguientes características:\n",
    "\n",
    "- Muy rápida: 110000 sets por segundo y alrededor de 81000 gets\n",
    "- Soporta estructuras de datos complejas en el valor\n",
    "- Operaciones atómicas --> consistencia\n",
    "- Escalable (admite clúster)\n",
    "- Pensada para funcionar en memoria, pero admite persistencia\n",
    "\n",
    "Vamos a utilizar redis desde su interfaz con Python. Para detalles de este interfaz consultar \n",
    "https://redis-py.readthedocs.io/en/latest/\n",
    "\n",
    "Para una buena introducción a los tipos de Redis y sus operaciones\n",
    "https://redis.io/topics/data-types-intro\n",
    "\n",
    "Para una lista de comandos más útiles:\n",
    "\n",
    "https://gist.github.com/Yogendra0Sharma/3f83aa825470ee989b28a5314bd5a4a6\n",
    "\n",
    "### Instalación\n",
    "\n",
    "En esta práctica vamos a utilizar redis en red (ver instrucciones aparte), por lo que lo único de que debeos disponer es de Anaconda y de la librería correspondiente. Para ello, desde Anaconda Prompt hacer\n",
    "\n",
    "```\n",
    "pip install redis\n",
    "```\n",
    "\n",
    "Si alguien prefiere instalarlo en Linux, es habitual hacerlo a partir del fuente (es muy ligero)\n",
    "\n",
    "```\n",
    "wget http://download.redis.io/redis-stable.tar.gz\n",
    "tar xvzf redis-stable.tar.gz\n",
    "cd redis-stable\n",
    "make\n",
    "make test\n",
    "```\n",
    "\n",
    "para dejarlo instalado\n",
    "\n",
    "```\n",
    "sudo make install\n",
    "```\n",
    "\n",
    "también se puede hacer directamente:\n",
    "\n",
    "```\n",
    "sudo apt-get update \n",
    "sudo apt-get install redis-server\n",
    "```\n",
    "\n",
    "### Iniciar redis\n",
    "- Arquitectura cliente-servidor \n",
    "- Arranque del servidor\n",
    "\n",
    "```\n",
    "redis-server\n",
    "```\n",
    "\n",
    "o con una configuración\n",
    "\n",
    "```\n",
    "redis-server conf\n",
    "```\n",
    "\n",
    "Si estamos conectando a un servidor en la nube no habrá que hacer esto.\n",
    "\n",
    "### Comprobar si funciona\n",
    "\n",
    "Desde la línea de comandos\n",
    "\n",
    "```\n",
    "redis-cli ping\n",
    "PONG\n",
    "```\n",
    "\n",
    "Desde Python:\n"
   ]
  },
  {
   "cell_type": "code",
   "execution_count": 1,
   "metadata": {},
   "outputs": [
    {
     "data": {
      "text/plain": [
       "True"
      ]
     },
     "execution_count": 1,
     "metadata": {},
     "output_type": "execute_result"
    }
   ],
   "source": [
    "# Ojo, cambiar estos datos por los de vuestro acceso a red en redislabs\n",
    "\n",
    "redisconexion = \"redis-12588.c135.eu-central-1-1.ec2.cloud.redislabs.com\"  # será algo de la forma \"...ec2.cloud.redislabs.com\"\n",
    "redispuerto = 12588 # cambiar solo si es diferente\n",
    "passwd = \"YNUBRlaFh6kJnTKfDxsXur44M3jOkNqy\" # poner el passwd correspondiente\n",
    "\n",
    "import redis\n",
    "r = redis.Redis(host=redisconexion, password=passwd, port=redispuerto, charset=\"utf-8\", decode_responses=True, db=0)\n",
    "r.ping() # debe mostrar True"
   ]
  },
  {
   "cell_type": "markdown",
   "metadata": {},
   "source": [
    "### Asignación clave valor\n",
    "\n",
    "Las operaciones básicas en toda base de datos clave valor: *set* y *get*"
   ]
  },
  {
   "cell_type": "code",
   "execution_count": 6,
   "metadata": {},
   "outputs": [
    {
     "data": {
      "text/plain": [
       "True"
      ]
     },
     "execution_count": 6,
     "metadata": {},
     "output_type": "execute_result"
    }
   ],
   "source": [
    "r.set('nombre:usuario', 'Bertoldo')"
   ]
  },
  {
   "cell_type": "code",
   "execution_count": 7,
   "metadata": {},
   "outputs": [
    {
     "data": {
      "text/plain": [
       "'Bertoldo'"
      ]
     },
     "execution_count": 7,
     "metadata": {},
     "output_type": "execute_result"
    }
   ],
   "source": [
    "x = r.get('nombre:usuario')\n",
    "x"
   ]
  },
  {
   "cell_type": "markdown",
   "metadata": {},
   "source": [
    "Redis permite almacenar distintos tipos de datos, no solo strings:"
   ]
  },
  {
   "cell_type": "code",
   "execution_count": 8,
   "metadata": {
    "scrolled": true
   },
   "outputs": [
    {
     "data": {
      "text/plain": [
       "(27, int)"
      ]
     },
     "execution_count": 8,
     "metadata": {},
     "output_type": "execute_result"
    }
   ],
   "source": [
    "r.set('edad:usuario',27)\n",
    "x = int(r.get('edad:usuario'))\n",
    "x,type(x)"
   ]
  },
  {
   "cell_type": "markdown",
   "metadata": {},
   "source": [
    "Es importante notar que estamos trabajando en memoria, aunque los datos se pueden grabar a disco (veremos como).\n",
    "\n",
    "Si queremos borrar todas las claves de memoria:"
   ]
  },
  {
   "cell_type": "code",
   "execution_count": 9,
   "metadata": {},
   "outputs": [
    {
     "data": {
      "text/plain": [
       "2"
      ]
     },
     "execution_count": 9,
     "metadata": {},
     "output_type": "execute_result"
    }
   ],
   "source": [
    "r.dbsize()"
   ]
  },
  {
   "cell_type": "code",
   "execution_count": 10,
   "metadata": {},
   "outputs": [
    {
     "data": {
      "text/plain": [
       "0"
      ]
     },
     "execution_count": 10,
     "metadata": {},
     "output_type": "execute_result"
    }
   ],
   "source": [
    "r.flushall()\n",
    "r.dbsize()"
   ]
  },
  {
   "cell_type": "markdown",
   "metadata": {},
   "source": [
    "### Set en datalle"
   ]
  },
  {
   "cell_type": "markdown",
   "metadata": {},
   "source": [
    "La sintaxis completa de set en Python es\n",
    "\n",
    "```[Python]\n",
    "set(name, value, ex=None, px=None, nx=False, xx=False)\n",
    "```\n",
    "donde\n",
    "- ex establece un tiempo de vida en segundos\n",
    "- px establece un tiempo de vida en milisegundos\n",
    "- nx vale True si se quiere que se cambie el valor solo si la clave es nueva \n",
    "- xx vale True si se quiere que se cambie el valor solo si la clave ya existe\n",
    "\n",
    "\n",
    "**P** ¿Qué valor tendra \"x\" tras ejecutar este código? y si se cambia el 5 por un 10?\n"
   ]
  },
  {
   "cell_type": "code",
   "execution_count": 12,
   "metadata": {},
   "outputs": [
    {
     "data": {
      "text/plain": [
       "'-1'"
      ]
     },
     "execution_count": 12,
     "metadata": {},
     "output_type": "execute_result"
    }
   ],
   "source": [
    "import time\n",
    "r.set(\"x\",10,ex=8)\n",
    "time.sleep(5)\n",
    "r.set(\"x\",-1,xx=True)\n",
    "r.get(\"x\")\n"
   ]
  },
  {
   "cell_type": "markdown",
   "metadata": {},
   "source": [
    "Para saber el tiempo que le queda de vida a una clave podemos utilizar el *time to live*"
   ]
  },
  {
   "cell_type": "code",
   "execution_count": 13,
   "metadata": {},
   "outputs": [
    {
     "data": {
      "text/plain": [
       "2"
      ]
     },
     "execution_count": 13,
     "metadata": {},
     "output_type": "execute_result"
    }
   ],
   "source": [
    "r.set(\"x\",10,ex=5)\n",
    "time.sleep(3)\n",
    "r.ttl(\"x\")"
   ]
  },
  {
   "cell_type": "markdown",
   "metadata": {},
   "source": [
    "Para alargar la vida podemos utilizar *expire* (o *pexpire* para milisegundos)"
   ]
  },
  {
   "cell_type": "code",
   "execution_count": 14,
   "metadata": {},
   "outputs": [
    {
     "name": "stdout",
     "output_type": "stream",
     "text": [
      "2\n",
      "-2\n",
      "-2\n"
     ]
    }
   ],
   "source": [
    "r.set(\"x\",10,ex=5)\n",
    "time.sleep(3)\n",
    "print(r.ttl(\"x\"))\n",
    "r.expire(\"x\",-3)\n",
    "print(r.ttl(\"x\"))\n",
    "time.sleep(3)\n",
    "print(r.ttl(\"x\"))\n",
    "r.get(\"x\")"
   ]
  },
  {
   "cell_type": "markdown",
   "metadata": {},
   "source": [
    "TTL devuelve el tiempo en segundos de vida, -2 si la clave no existe o -1 si sí existe pero es permanente"
   ]
  },
  {
   "cell_type": "markdown",
   "metadata": {},
   "source": [
    "Para quitarle la condena a muerte podemos utilizar *persist*"
   ]
  },
  {
   "cell_type": "code",
   "execution_count": 15,
   "metadata": {},
   "outputs": [
    {
     "name": "stdout",
     "output_type": "stream",
     "text": [
      "1\n",
      "-1\n",
      "-2\n"
     ]
    }
   ],
   "source": [
    "r.set(\"x\",10,ex=5)\n",
    "time.sleep(3)\n",
    "print(r.ttl(\"x\"))\n",
    "r.persist(\"x\")\n",
    "print(r.ttl(\"x\"))\n",
    "print(r.ttl(\"y\"))\n"
   ]
  },
  {
   "cell_type": "markdown",
   "metadata": {},
   "source": [
    "Aunque *ttl* toma el valor -2 cuando la clave no existe, es mejor utilizar *exists*"
   ]
  },
  {
   "cell_type": "code",
   "execution_count": 16,
   "metadata": {},
   "outputs": [
    {
     "name": "stdout",
     "output_type": "stream",
     "text": [
      "1\n",
      "0\n"
     ]
    }
   ],
   "source": [
    "print(r.exists(\"x\"))\n",
    "print(r.exists(\"y\"))"
   ]
  },
  {
   "cell_type": "markdown",
   "metadata": {},
   "source": [
    "Además podemos eliminar una clave con  *delete*  (*del* en la  consola)"
   ]
  },
  {
   "cell_type": "code",
   "execution_count": 17,
   "metadata": {},
   "outputs": [
    {
     "name": "stdout",
     "output_type": "stream",
     "text": [
      "0\n"
     ]
    }
   ],
   "source": [
    "r.delete(\"x\")\n",
    "print(r.exists(\"x\"))"
   ]
  },
  {
   "cell_type": "markdown",
   "metadata": {},
   "source": [
    "### Cadenas\n",
    "\n",
    "En el caso de cadenas de caracteres (strings), Redis ofrece las funciones \n",
    "\n",
    "- append(clave,s), que añade una cadena s al final del valor asociado a clave. Devuelve el número de caracteres que tiene la cadena\n",
    "- strlen(clave): la longitud de una cadena\n",
    "- getrange(clave,begin,end): devuelve un fragmento de una cadena desde el caracter *begin* hasta el caracter *end*\n",
    "- setrange(clave,begin,s): reemplaza el contenido de la cadena a partir del caracter *begin* por *s*. no inserta sino que machaca el resultado.\n",
    "\n",
    "Estas operaciones son muy rápidas O(1) (sin tener en cuenta el tiempo de copiar la cadena. si sí lo tenemos en cuenta O(M))"
   ]
  },
  {
   "cell_type": "code",
   "execution_count": 47,
   "metadata": {},
   "outputs": [
    {
     "data": {
      "text/plain": [
       "'Hola  Mundo'"
      ]
     },
     "execution_count": 47,
     "metadata": {},
     "output_type": "execute_result"
    }
   ],
   "source": [
    "r.flushdb()\n",
    "r.set(\"saludo\", \"Hola \")\n",
    "r.append(\"saludo\",\" Mundo\")\n",
    "r.get(\"saludo\")"
   ]
  },
  {
   "cell_type": "code",
   "execution_count": 48,
   "metadata": {},
   "outputs": [
    {
     "data": {
      "text/plain": [
       "' Mundo'"
      ]
     },
     "execution_count": 48,
     "metadata": {},
     "output_type": "execute_result"
    }
   ],
   "source": [
    "l = r.strlen(\"saludo\")\n",
    "r.getrange(\"saludo\", 5, l)"
   ]
  },
  {
   "cell_type": "code",
   "execution_count": 49,
   "metadata": {},
   "outputs": [
    {
     "data": {
      "text/plain": [
       "'Hola Chungo'"
      ]
     },
     "execution_count": 49,
     "metadata": {},
     "output_type": "execute_result"
    }
   ],
   "source": [
    "r.setrange(\"saludo\",5,\"Chung\")\n",
    "r.get(\"saludo\")"
   ]
  },
  {
   "cell_type": "markdown",
   "metadata": {},
   "source": [
    "Una aplicación muy típica de las cadenas en Redis es la captura de datos desde fuentes streaming.\n",
    "\n",
    "**Ejemplo**\n",
    "Ejecutar en un otra pestaña el notebook *sensor*\n"
   ]
  },
  {
   "cell_type": "code",
   "execution_count": 21,
   "metadata": {},
   "outputs": [
    {
     "data": {
      "text/plain": [
       "'   320.9'"
      ]
     },
     "execution_count": 21,
     "metadata": {},
     "output_type": "execute_result"
    }
   ],
   "source": [
    "r.get(\"sensor\")"
   ]
  },
  {
   "cell_type": "code",
   "execution_count": 22,
   "metadata": {},
   "outputs": [
    {
     "data": {
      "text/plain": [
       "True"
      ]
     },
     "execution_count": 22,
     "metadata": {},
     "output_type": "execute_result"
    }
   ],
   "source": [
    "s = str(r.get(\"sensor\"))\n",
    "r.set(\"sensordata\",s)"
   ]
  },
  {
   "cell_type": "markdown",
   "metadata": {},
   "source": [
    "**P2** Escribir un código en Python que, mientras que la longitud (strlen) de la clave \"sensordata\" sea menor que 1000 vaya añadiendo (append) a la clave *sensordata* cada nuevo valor leído del sensor (anteponer ':' para distinguir cada clave). Ojo: añadir una nueva lectura solo cuando sea nueva (sea distinta de la última añadida).\n",
    "\n",
    "Salida esperada:\n",
    "```\n",
    "36950.9: 62610.9: 62620.6: 62630.4: 62640.4: 62650.0: 62660.2: 62670.6: 62680.7: 62690.2: 62700.8: 62710.1: 62730.2: 62740.0: 62750.9: 62760.2: 62770.2: 62780.9: 62790.8: 62800.0: 62810.1: 62820.5: 62830.4: 62840.6: 62850.2: 62860.8: 62870.6: 62880.1: 62890.0: 62900.3: 62910.3: 62920.1: 62930.0: 62940.9: 62950.4: 62960.2: 62970.0: 62980.5: 62990.2: 63000.9: 63010.7: 63020.0: 63030.6: 63040.6\n",
    "```"
   ]
  },
  {
   "cell_type": "code",
   "execution_count": 11,
   "metadata": {},
   "outputs": [
    {
     "name": "stdout",
     "output_type": "stream",
     "text": [
      ":  1510.1:  1530.6:  1550.0:  1570.9:  1590.3:  1620.9:  1640.6:  1660.4:  1690.3:  1710.8:  1730.5:  1750.1:  1770.2:  1800.0:  1820.5:  1840.1:  1860.8:  1890.2:  1910.3:  1930.4:  1950.1:  1970.8:  2000.6:  2020.0:  2040.5:  2060.3:  2090.9:  2110.1:  2130.5:  2150.6:  2170.8:  2200.3:  2220.3:  2240.9:  2270.8:  2290.8:  2310.2:  2330.1:  2350.2:  2380.7:  2400.2:  2420.5:  2440.9:  2470.9:  2490.9:  2510.6:  2540.2:  2560.8:  2580.8:  2610.0:  2630.8:  2650.9:  2670.2:  2700.8:  2720.3:  2740.0:  2760.3:  2790.8:  2810.7:  2830.6:  2850.3:  2880.5:  2900.6:  2920.5:  2940.5:  2970.5:  2990.0:  3010.2:  3030.4:  3060.6:  3080.3:  3100.1:  3120.0:  3150.6:  3170.3:  3190.4:  3220.1:  3240.8:  3260.2:  3290.8:  3310.3:  3330.6:  3350.9:  3370.6:  3390.7:  3410.0:  3440.2:  3460.0:  3480.4:  3500.6:  3520.6:  3550.3:  3570.2:  3590.5:  3610.8:  3630.1:  3660.3:  3680.6:  3700.9:  3720.5:  3750.3:  3770.3:  3790.9:  3820.1:  3840.9:  3860.7:  3880.6:  3910.9:  3930.8:  3950.9:  3980.7:  4000.5\n"
     ]
    }
   ],
   "source": [
    "# Solución. Recordar utilizar el notebook sensor \n",
    "r.delete(\"sensordata\")\n",
    "v = \"\"\n",
    "while r.strlen(\"sensordata\")<1000:\n",
    "    nv = r.get(\"sensor\")\n",
    "    if nv!=v:\n",
    "        r.append(\"sensordata\",\":\"+nv)\n",
    "        v = nv\n",
    "\n",
    "print(r.get(\"sensordata\"))"
   ]
  },
  {
   "cell_type": "markdown",
   "metadata": {},
   "source": [
    "Este código tiene un defecto: mezcla el tiempo con el resultado. Si solo estamos interesados en almacenar el dato del sensor y no el tiempo, o queremos hacer ambas cosas por separado, esto nos obligar a 'parsear' el valor en \"sensor\" para sacar sus componentes.\n",
    "\n",
    "**P3** ¿No sería mejor hacer \n",
    "```[Python] \n",
    "        r.set(\"sensorTime\",t)\n",
    "        r.set(\"sensorValue\",str(randint(0, 9))) \n",
    "```\n",
    "y algo similar en nuestro programa al hacer get? ¿Esto plantearía algún problema?\n"
   ]
  },
  {
   "cell_type": "markdown",
   "metadata": {},
   "source": [
    "Para lograr poner varios valores sin perder atomicidad, se puede utilizar mset y mget"
   ]
  },
  {
   "cell_type": "code",
   "execution_count": 23,
   "metadata": {
    "scrolled": true
   },
   "outputs": [
    {
     "name": "stdout",
     "output_type": "stream",
     "text": [
      "100 200 "
     ]
    },
    {
     "ename": "KeyboardInterrupt",
     "evalue": "",
     "output_type": "error",
     "traceback": [
      "\u001b[1;31m---------------------------------------------------------------------------\u001b[0m",
      "\u001b[1;31mKeyboardInterrupt\u001b[0m                         Traceback (most recent call last)",
      "\u001b[1;32m<ipython-input-23-3c5e6bf26cc5>\u001b[0m in \u001b[0;36m<module>\u001b[1;34m\u001b[0m\n\u001b[0;32m      2\u001b[0m \u001b[0mt\u001b[0m \u001b[1;33m=\u001b[0m \u001b[1;33m-\u001b[0m\u001b[1;36m1\u001b[0m \u001b[1;31m# tiempo irreal para coger el primer valor\u001b[0m\u001b[1;33m\u001b[0m\u001b[1;33m\u001b[0m\u001b[0m\n\u001b[0;32m      3\u001b[0m \u001b[0ms\u001b[0m \u001b[1;33m=\u001b[0m \u001b[1;36m0\u001b[0m \u001b[1;31m# longitud de sensordata\u001b[0m\u001b[1;33m\u001b[0m\u001b[1;33m\u001b[0m\u001b[0m\n\u001b[1;32m----> 4\u001b[1;33m \u001b[1;32mwhile\u001b[0m \u001b[0mr\u001b[0m\u001b[1;33m.\u001b[0m\u001b[0mstrlen\u001b[0m\u001b[1;33m(\u001b[0m\u001b[1;34m\"sensordata\"\u001b[0m\u001b[1;33m)\u001b[0m \u001b[1;33m<\u001b[0m \u001b[1;36m300\u001b[0m\u001b[1;33m:\u001b[0m\u001b[1;33m\u001b[0m\u001b[1;33m\u001b[0m\u001b[0m\n\u001b[0m\u001b[0;32m      5\u001b[0m \u001b[1;33m\u001b[0m\u001b[0m\n\u001b[0;32m      6\u001b[0m     \u001b[1;31m# datos del sensor en una transacción atómica\u001b[0m\u001b[1;33m\u001b[0m\u001b[1;33m\u001b[0m\u001b[1;33m\u001b[0m\u001b[0m\n",
      "\u001b[1;32m~\\anaconda3\\lib\\site-packages\\redis\\client.py\u001b[0m in \u001b[0;36mstrlen\u001b[1;34m(self, name)\u001b[0m\n\u001b[0;32m   1806\u001b[0m     \u001b[1;32mdef\u001b[0m \u001b[0mstrlen\u001b[0m\u001b[1;33m(\u001b[0m\u001b[0mself\u001b[0m\u001b[1;33m,\u001b[0m \u001b[0mname\u001b[0m\u001b[1;33m)\u001b[0m\u001b[1;33m:\u001b[0m\u001b[1;33m\u001b[0m\u001b[1;33m\u001b[0m\u001b[0m\n\u001b[0;32m   1807\u001b[0m         \u001b[1;34m\"Return the number of bytes stored in the value of ``name``\"\u001b[0m\u001b[1;33m\u001b[0m\u001b[1;33m\u001b[0m\u001b[0m\n\u001b[1;32m-> 1808\u001b[1;33m         \u001b[1;32mreturn\u001b[0m \u001b[0mself\u001b[0m\u001b[1;33m.\u001b[0m\u001b[0mexecute_command\u001b[0m\u001b[1;33m(\u001b[0m\u001b[1;34m'STRLEN'\u001b[0m\u001b[1;33m,\u001b[0m \u001b[0mname\u001b[0m\u001b[1;33m)\u001b[0m\u001b[1;33m\u001b[0m\u001b[1;33m\u001b[0m\u001b[0m\n\u001b[0m\u001b[0;32m   1809\u001b[0m \u001b[1;33m\u001b[0m\u001b[0m\n\u001b[0;32m   1810\u001b[0m     \u001b[1;32mdef\u001b[0m \u001b[0msubstr\u001b[0m\u001b[1;33m(\u001b[0m\u001b[0mself\u001b[0m\u001b[1;33m,\u001b[0m \u001b[0mname\u001b[0m\u001b[1;33m,\u001b[0m \u001b[0mstart\u001b[0m\u001b[1;33m,\u001b[0m \u001b[0mend\u001b[0m\u001b[1;33m=\u001b[0m\u001b[1;33m-\u001b[0m\u001b[1;36m1\u001b[0m\u001b[1;33m)\u001b[0m\u001b[1;33m:\u001b[0m\u001b[1;33m\u001b[0m\u001b[1;33m\u001b[0m\u001b[0m\n",
      "\u001b[1;32m~\\anaconda3\\lib\\site-packages\\redis\\client.py\u001b[0m in \u001b[0;36mexecute_command\u001b[1;34m(self, *args, **options)\u001b[0m\n\u001b[0;32m    876\u001b[0m         \u001b[1;32mtry\u001b[0m\u001b[1;33m:\u001b[0m\u001b[1;33m\u001b[0m\u001b[1;33m\u001b[0m\u001b[0m\n\u001b[0;32m    877\u001b[0m             \u001b[0mconn\u001b[0m\u001b[1;33m.\u001b[0m\u001b[0msend_command\u001b[0m\u001b[1;33m(\u001b[0m\u001b[1;33m*\u001b[0m\u001b[0margs\u001b[0m\u001b[1;33m)\u001b[0m\u001b[1;33m\u001b[0m\u001b[1;33m\u001b[0m\u001b[0m\n\u001b[1;32m--> 878\u001b[1;33m             \u001b[1;32mreturn\u001b[0m \u001b[0mself\u001b[0m\u001b[1;33m.\u001b[0m\u001b[0mparse_response\u001b[0m\u001b[1;33m(\u001b[0m\u001b[0mconn\u001b[0m\u001b[1;33m,\u001b[0m \u001b[0mcommand_name\u001b[0m\u001b[1;33m,\u001b[0m \u001b[1;33m**\u001b[0m\u001b[0moptions\u001b[0m\u001b[1;33m)\u001b[0m\u001b[1;33m\u001b[0m\u001b[1;33m\u001b[0m\u001b[0m\n\u001b[0m\u001b[0;32m    879\u001b[0m         \u001b[1;32mexcept\u001b[0m \u001b[1;33m(\u001b[0m\u001b[0mConnectionError\u001b[0m\u001b[1;33m,\u001b[0m \u001b[0mTimeoutError\u001b[0m\u001b[1;33m)\u001b[0m \u001b[1;32mas\u001b[0m \u001b[0me\u001b[0m\u001b[1;33m:\u001b[0m\u001b[1;33m\u001b[0m\u001b[1;33m\u001b[0m\u001b[0m\n\u001b[0;32m    880\u001b[0m             \u001b[0mconn\u001b[0m\u001b[1;33m.\u001b[0m\u001b[0mdisconnect\u001b[0m\u001b[1;33m(\u001b[0m\u001b[1;33m)\u001b[0m\u001b[1;33m\u001b[0m\u001b[1;33m\u001b[0m\u001b[0m\n",
      "\u001b[1;32m~\\anaconda3\\lib\\site-packages\\redis\\client.py\u001b[0m in \u001b[0;36mparse_response\u001b[1;34m(self, connection, command_name, **options)\u001b[0m\n\u001b[0;32m    890\u001b[0m         \u001b[1;34m\"Parses a response from the Redis server\"\u001b[0m\u001b[1;33m\u001b[0m\u001b[1;33m\u001b[0m\u001b[0m\n\u001b[0;32m    891\u001b[0m         \u001b[1;32mtry\u001b[0m\u001b[1;33m:\u001b[0m\u001b[1;33m\u001b[0m\u001b[1;33m\u001b[0m\u001b[0m\n\u001b[1;32m--> 892\u001b[1;33m             \u001b[0mresponse\u001b[0m \u001b[1;33m=\u001b[0m \u001b[0mconnection\u001b[0m\u001b[1;33m.\u001b[0m\u001b[0mread_response\u001b[0m\u001b[1;33m(\u001b[0m\u001b[1;33m)\u001b[0m\u001b[1;33m\u001b[0m\u001b[1;33m\u001b[0m\u001b[0m\n\u001b[0m\u001b[0;32m    893\u001b[0m         \u001b[1;32mexcept\u001b[0m \u001b[0mResponseError\u001b[0m\u001b[1;33m:\u001b[0m\u001b[1;33m\u001b[0m\u001b[1;33m\u001b[0m\u001b[0m\n\u001b[0;32m    894\u001b[0m             \u001b[1;32mif\u001b[0m \u001b[0mEMPTY_RESPONSE\u001b[0m \u001b[1;32min\u001b[0m \u001b[0moptions\u001b[0m\u001b[1;33m:\u001b[0m\u001b[1;33m\u001b[0m\u001b[1;33m\u001b[0m\u001b[0m\n",
      "\u001b[1;32m~\\anaconda3\\lib\\site-packages\\redis\\connection.py\u001b[0m in \u001b[0;36mread_response\u001b[1;34m(self)\u001b[0m\n\u001b[0;32m    732\u001b[0m         \u001b[1;34m\"Read the response from a previously sent command\"\u001b[0m\u001b[1;33m\u001b[0m\u001b[1;33m\u001b[0m\u001b[0m\n\u001b[0;32m    733\u001b[0m         \u001b[1;32mtry\u001b[0m\u001b[1;33m:\u001b[0m\u001b[1;33m\u001b[0m\u001b[1;33m\u001b[0m\u001b[0m\n\u001b[1;32m--> 734\u001b[1;33m             \u001b[0mresponse\u001b[0m \u001b[1;33m=\u001b[0m \u001b[0mself\u001b[0m\u001b[1;33m.\u001b[0m\u001b[0m_parser\u001b[0m\u001b[1;33m.\u001b[0m\u001b[0mread_response\u001b[0m\u001b[1;33m(\u001b[0m\u001b[1;33m)\u001b[0m\u001b[1;33m\u001b[0m\u001b[1;33m\u001b[0m\u001b[0m\n\u001b[0m\u001b[0;32m    735\u001b[0m         \u001b[1;32mexcept\u001b[0m \u001b[0msocket\u001b[0m\u001b[1;33m.\u001b[0m\u001b[0mtimeout\u001b[0m\u001b[1;33m:\u001b[0m\u001b[1;33m\u001b[0m\u001b[1;33m\u001b[0m\u001b[0m\n\u001b[0;32m    736\u001b[0m             \u001b[0mself\u001b[0m\u001b[1;33m.\u001b[0m\u001b[0mdisconnect\u001b[0m\u001b[1;33m(\u001b[0m\u001b[1;33m)\u001b[0m\u001b[1;33m\u001b[0m\u001b[1;33m\u001b[0m\u001b[0m\n",
      "\u001b[1;32m~\\anaconda3\\lib\\site-packages\\redis\\connection.py\u001b[0m in \u001b[0;36mread_response\u001b[1;34m(self)\u001b[0m\n\u001b[0;32m    314\u001b[0m \u001b[1;33m\u001b[0m\u001b[0m\n\u001b[0;32m    315\u001b[0m     \u001b[1;32mdef\u001b[0m \u001b[0mread_response\u001b[0m\u001b[1;33m(\u001b[0m\u001b[0mself\u001b[0m\u001b[1;33m)\u001b[0m\u001b[1;33m:\u001b[0m\u001b[1;33m\u001b[0m\u001b[1;33m\u001b[0m\u001b[0m\n\u001b[1;32m--> 316\u001b[1;33m         \u001b[0mresponse\u001b[0m \u001b[1;33m=\u001b[0m \u001b[0mself\u001b[0m\u001b[1;33m.\u001b[0m\u001b[0m_buffer\u001b[0m\u001b[1;33m.\u001b[0m\u001b[0mreadline\u001b[0m\u001b[1;33m(\u001b[0m\u001b[1;33m)\u001b[0m\u001b[1;33m\u001b[0m\u001b[1;33m\u001b[0m\u001b[0m\n\u001b[0m\u001b[0;32m    317\u001b[0m         \u001b[1;32mif\u001b[0m \u001b[1;32mnot\u001b[0m \u001b[0mresponse\u001b[0m\u001b[1;33m:\u001b[0m\u001b[1;33m\u001b[0m\u001b[1;33m\u001b[0m\u001b[0m\n\u001b[0;32m    318\u001b[0m             \u001b[1;32mraise\u001b[0m \u001b[0mConnectionError\u001b[0m\u001b[1;33m(\u001b[0m\u001b[0mSERVER_CLOSED_CONNECTION_ERROR\u001b[0m\u001b[1;33m)\u001b[0m\u001b[1;33m\u001b[0m\u001b[1;33m\u001b[0m\u001b[0m\n",
      "\u001b[1;32m~\\anaconda3\\lib\\site-packages\\redis\\connection.py\u001b[0m in \u001b[0;36mreadline\u001b[1;34m(self)\u001b[0m\n\u001b[0;32m    246\u001b[0m         \u001b[1;32mwhile\u001b[0m \u001b[1;32mnot\u001b[0m \u001b[0mdata\u001b[0m\u001b[1;33m.\u001b[0m\u001b[0mendswith\u001b[0m\u001b[1;33m(\u001b[0m\u001b[0mSYM_CRLF\u001b[0m\u001b[1;33m)\u001b[0m\u001b[1;33m:\u001b[0m\u001b[1;33m\u001b[0m\u001b[1;33m\u001b[0m\u001b[0m\n\u001b[0;32m    247\u001b[0m             \u001b[1;31m# there's more data in the socket that we need\u001b[0m\u001b[1;33m\u001b[0m\u001b[1;33m\u001b[0m\u001b[1;33m\u001b[0m\u001b[0m\n\u001b[1;32m--> 248\u001b[1;33m             \u001b[0mself\u001b[0m\u001b[1;33m.\u001b[0m\u001b[0m_read_from_socket\u001b[0m\u001b[1;33m(\u001b[0m\u001b[1;33m)\u001b[0m\u001b[1;33m\u001b[0m\u001b[1;33m\u001b[0m\u001b[0m\n\u001b[0m\u001b[0;32m    249\u001b[0m             \u001b[0mbuf\u001b[0m\u001b[1;33m.\u001b[0m\u001b[0mseek\u001b[0m\u001b[1;33m(\u001b[0m\u001b[0mself\u001b[0m\u001b[1;33m.\u001b[0m\u001b[0mbytes_read\u001b[0m\u001b[1;33m)\u001b[0m\u001b[1;33m\u001b[0m\u001b[1;33m\u001b[0m\u001b[0m\n\u001b[0;32m    250\u001b[0m             \u001b[0mdata\u001b[0m \u001b[1;33m=\u001b[0m \u001b[0mbuf\u001b[0m\u001b[1;33m.\u001b[0m\u001b[0mreadline\u001b[0m\u001b[1;33m(\u001b[0m\u001b[1;33m)\u001b[0m\u001b[1;33m\u001b[0m\u001b[1;33m\u001b[0m\u001b[0m\n",
      "\u001b[1;32m~\\anaconda3\\lib\\site-packages\\redis\\connection.py\u001b[0m in \u001b[0;36m_read_from_socket\u001b[1;34m(self, length, timeout, raise_on_timeout)\u001b[0m\n\u001b[0;32m    188\u001b[0m                 \u001b[0msock\u001b[0m\u001b[1;33m.\u001b[0m\u001b[0msettimeout\u001b[0m\u001b[1;33m(\u001b[0m\u001b[0mtimeout\u001b[0m\u001b[1;33m)\u001b[0m\u001b[1;33m\u001b[0m\u001b[1;33m\u001b[0m\u001b[0m\n\u001b[0;32m    189\u001b[0m             \u001b[1;32mwhile\u001b[0m \u001b[1;32mTrue\u001b[0m\u001b[1;33m:\u001b[0m\u001b[1;33m\u001b[0m\u001b[1;33m\u001b[0m\u001b[0m\n\u001b[1;32m--> 190\u001b[1;33m                 \u001b[0mdata\u001b[0m \u001b[1;33m=\u001b[0m \u001b[0mrecv\u001b[0m\u001b[1;33m(\u001b[0m\u001b[0mself\u001b[0m\u001b[1;33m.\u001b[0m\u001b[0m_sock\u001b[0m\u001b[1;33m,\u001b[0m \u001b[0msocket_read_size\u001b[0m\u001b[1;33m)\u001b[0m\u001b[1;33m\u001b[0m\u001b[1;33m\u001b[0m\u001b[0m\n\u001b[0m\u001b[0;32m    191\u001b[0m                 \u001b[1;31m# an empty string indicates the server shutdown the socket\u001b[0m\u001b[1;33m\u001b[0m\u001b[1;33m\u001b[0m\u001b[1;33m\u001b[0m\u001b[0m\n\u001b[0;32m    192\u001b[0m                 \u001b[1;32mif\u001b[0m \u001b[0misinstance\u001b[0m\u001b[1;33m(\u001b[0m\u001b[0mdata\u001b[0m\u001b[1;33m,\u001b[0m \u001b[0mbytes\u001b[0m\u001b[1;33m)\u001b[0m \u001b[1;32mand\u001b[0m \u001b[0mlen\u001b[0m\u001b[1;33m(\u001b[0m\u001b[0mdata\u001b[0m\u001b[1;33m)\u001b[0m \u001b[1;33m==\u001b[0m \u001b[1;36m0\u001b[0m\u001b[1;33m:\u001b[0m\u001b[1;33m\u001b[0m\u001b[1;33m\u001b[0m\u001b[0m\n",
      "\u001b[1;32m~\\anaconda3\\lib\\site-packages\\redis\\_compat.py\u001b[0m in \u001b[0;36mrecv\u001b[1;34m(sock, *args, **kwargs)\u001b[0m\n\u001b[0;32m     69\u001b[0m \u001b[1;32melse\u001b[0m\u001b[1;33m:\u001b[0m  \u001b[1;31m# Python 3.5 and above automatically retry EINTR\u001b[0m\u001b[1;33m\u001b[0m\u001b[1;33m\u001b[0m\u001b[0m\n\u001b[0;32m     70\u001b[0m     \u001b[1;32mdef\u001b[0m \u001b[0mrecv\u001b[0m\u001b[1;33m(\u001b[0m\u001b[0msock\u001b[0m\u001b[1;33m,\u001b[0m \u001b[1;33m*\u001b[0m\u001b[0margs\u001b[0m\u001b[1;33m,\u001b[0m \u001b[1;33m**\u001b[0m\u001b[0mkwargs\u001b[0m\u001b[1;33m)\u001b[0m\u001b[1;33m:\u001b[0m\u001b[1;33m\u001b[0m\u001b[1;33m\u001b[0m\u001b[0m\n\u001b[1;32m---> 71\u001b[1;33m         \u001b[1;32mreturn\u001b[0m \u001b[0msock\u001b[0m\u001b[1;33m.\u001b[0m\u001b[0mrecv\u001b[0m\u001b[1;33m(\u001b[0m\u001b[1;33m*\u001b[0m\u001b[0margs\u001b[0m\u001b[1;33m,\u001b[0m \u001b[1;33m**\u001b[0m\u001b[0mkwargs\u001b[0m\u001b[1;33m)\u001b[0m\u001b[1;33m\u001b[0m\u001b[1;33m\u001b[0m\u001b[0m\n\u001b[0m\u001b[0;32m     72\u001b[0m \u001b[1;33m\u001b[0m\u001b[0m\n\u001b[0;32m     73\u001b[0m     \u001b[1;32mdef\u001b[0m \u001b[0mrecv_into\u001b[0m\u001b[1;33m(\u001b[0m\u001b[0msock\u001b[0m\u001b[1;33m,\u001b[0m \u001b[1;33m*\u001b[0m\u001b[0margs\u001b[0m\u001b[1;33m,\u001b[0m \u001b[1;33m**\u001b[0m\u001b[0mkwargs\u001b[0m\u001b[1;33m)\u001b[0m\u001b[1;33m:\u001b[0m\u001b[1;33m\u001b[0m\u001b[1;33m\u001b[0m\u001b[0m\n",
      "\u001b[1;31mKeyboardInterrupt\u001b[0m: "
     ]
    }
   ],
   "source": [
    "r.flushdb() # ejecutar tras este el notebook sensor2\n",
    "t = -1 # tiempo irreal para coger el primer valor\n",
    "s = 0 # longitud de sensordata\n",
    "while r.strlen(\"sensordata\") < 300:\n",
    "   \n",
    "    # datos del sensor en una transacción atómica\n",
    "    v =  r.mget(['sensorTime', 'sensorValue'])\n",
    "    sensorTime = v[0]\n",
    "    sensorValue = v[1]\n",
    "    if sensorTime!=None and int(sensorTime)!=t:\n",
    "        t=int(v[0]);\n",
    "        r.append(\"sensordata\",\":\"+str(v[1]))\n",
    "\n",
    "    # para la siguiente iteración\n",
    "    s = r.strlen(\"sensordata\")\n",
    "    if s%100==0:\n",
    "        print(s,end=\" \")\n",
    "print(\"\\n\",r.get(\"sensordata\"))"
   ]
  },
  {
   "cell_type": "markdown",
   "metadata": {},
   "source": [
    "Si lo que queremos es obtener el valor de una clave y modificarlo asegurándonos de que no ocurre nada entre tanto, en lugar de \n",
    "```[Python]\n",
    "v = r.get(name)\n",
    "s.set(name,newvalue)\n",
    "```\n",
    "debemos hacer\n",
    "```[Python]\n",
    "v = r.getset(name,newvalue)\n",
    "```\n"
   ]
  },
  {
   "cell_type": "markdown",
   "metadata": {},
   "source": [
    "### Enteros\n",
    "Los enteros admiten algunas operaciones sencillas como son: \n",
    "- incr(name, amount=1): incrementa el valor *name* en la cantidad indicada, que es 1 por defecto\n",
    "- decr(name, amount=1): decrementa el valor *name* en la cantidad indicada, que es 1 por defecto\n",
    "- incrbyfloat(name, amount=1.0): análogo pero para sumar valores en coma flotante \n",
    "- decrbyfloat(name, amount=1.0): análogo pero para sumar valores en coma flotante \n",
    "\n",
    "**P4** ¿*incr* no sería equivalente a \n",
    "\n",
    "```[Python]\n",
    "v = r.get(name)\n",
    "s.set(name,v+1) ?\n",
    "```\n",
    "\n"
   ]
  },
  {
   "cell_type": "markdown",
   "metadata": {},
   "source": [
    "**P5** A partir de sensor2.py hacer un programa que\n",
    "- Tome 200 valores del sensor\n",
    "- Nos indique cuantos valores han sido 0 y cuántos han sido 9. Queremos hacerlo con Redis, utilizando incr porque puede haber otros clientes colaborando en la tarea para otros sensores"
   ]
  },
  {
   "cell_type": "code",
   "execution_count": 18,
   "metadata": {},
   "outputs": [
    {
     "name": "stdout",
     "output_type": "stream",
     "text": [
      "['14', '12']\n"
     ]
    }
   ],
   "source": [
    "# Solución. \n",
    "r.flushdb() # ejecutar tras este el notebook sensor2\n",
    "r.set(\"ceros\",0)\n",
    "r.set(\"nueves\",0)\n",
    "\n",
    "t = -1 # tiempo irreal para coger el primer valor\n",
    "for i in range(200):\n",
    "    v =  r.mget(['sensorTime', 'sensorValue'])\n",
    "    sensorTime = v[0]\n",
    "    sensorValue = v[1]\n",
    "    if sensorTime!=None and int(sensorTime)!=t:\n",
    "        t=int(v[0]);\n",
    "        valor = int(v[1])\n",
    "        if valor==0:\n",
    "            r.incr(\"ceros\")\n",
    "        elif valor==9:\n",
    "            r.incr(\"nueves\")\n",
    "            \n",
    "print(r.mget([\"ceros\",\"nueves\"]))"
   ]
  },
  {
   "cell_type": "markdown",
   "metadata": {},
   "source": [
    "## Estructuras compuestas\n",
    "\n",
    "Son las siguientes:\n",
    "- Listas\n",
    "- Streams\n",
    "- Sets\n",
    "- Sorted Sets \n",
    "- Hashes\n",
    "\n",
    "Los tipos compuestos o agregados en Redis siguen las siguientes 3 reglas básicas que conviene conocer:\n",
    "\n",
    "1. Cuando *añadimos* un elemento a un tipo agregado y la clave no existe, se genera de forma automática el valor vacío y a continuación se añade el elemento.\n",
    "2. Al *eliminar* elementos a un tipo de datos agregado y este queda vacío, la clave asociada es destruida automáticamente (con la excepción de los elementos de tipo Stream)\n",
    "3. Una llamada a una *operación de solo lectura* como *llen* (longitud de una lista) o de eleminación como *rpop* sobre una clave que no existe, se comporta como si la clave existiera conteniendo el tipo agregado vacío.\n",
    "\n",
    "\n",
    "\n",
    "\n",
    "\n"
   ]
  },
  {
   "cell_type": "markdown",
   "metadata": {},
   "source": [
    "### Listas \n",
    "\n",
    "Las listas en Redis son *listas enlazadas*, no como arrays (que es el caso de Python). En particular esto significa que:\n",
    "\n",
    "- las inserciones al principio (*lpush*) o al final (*rpush*) se hacen en tiempo constante.\n",
    "- El acceso mediante índice es más lento\n",
    "\n",
    "Utilidades:\n",
    "- Apuntar los cambios que realiza un usuario (por ejemplo los últimos tweets de un usuario)\n",
    "- Generar aplicaciones publicor/subscriptor"
   ]
  },
  {
   "cell_type": "markdown",
   "metadata": {},
   "source": [
    "¿Qué devuelve este código? ¿por qué?"
   ]
  },
  {
   "cell_type": "code",
   "execution_count": 4,
   "metadata": {},
   "outputs": [
    {
     "ename": "ResponseError",
     "evalue": "WRONGTYPE Operation against a key holding the wrong kind of value",
     "output_type": "error",
     "traceback": [
      "\u001b[1;31m---------------------------------------------------------------------------\u001b[0m",
      "\u001b[1;31mResponseError\u001b[0m                             Traceback (most recent call last)",
      "\u001b[1;32m<ipython-input-4-eee49c522471>\u001b[0m in \u001b[0;36m<module>\u001b[1;34m\u001b[0m\n\u001b[0;32m      2\u001b[0m \u001b[1;32mfor\u001b[0m \u001b[0mi\u001b[0m \u001b[1;32min\u001b[0m \u001b[0mrange\u001b[0m\u001b[1;33m(\u001b[0m\u001b[1;36m10\u001b[0m\u001b[1;33m)\u001b[0m\u001b[1;33m:\u001b[0m\u001b[1;33m\u001b[0m\u001b[1;33m\u001b[0m\u001b[0m\n\u001b[0;32m      3\u001b[0m     \u001b[0mr\u001b[0m\u001b[1;33m.\u001b[0m\u001b[0mlpush\u001b[0m\u001b[1;33m(\u001b[0m\u001b[1;34m\"lista\"\u001b[0m\u001b[1;33m,\u001b[0m\u001b[0mi\u001b[0m\u001b[1;33m)\u001b[0m\u001b[1;33m\u001b[0m\u001b[1;33m\u001b[0m\u001b[0m\n\u001b[1;32m----> 4\u001b[1;33m \u001b[0mr\u001b[0m\u001b[1;33m.\u001b[0m\u001b[0mget\u001b[0m\u001b[1;33m(\u001b[0m\u001b[1;34m\"lista\"\u001b[0m\u001b[1;33m)\u001b[0m\u001b[1;33m\u001b[0m\u001b[1;33m\u001b[0m\u001b[0m\n\u001b[0m",
      "\u001b[1;32m~\\anaconda3\\lib\\site-packages\\redis\\client.py\u001b[0m in \u001b[0;36mget\u001b[1;34m(self, name)\u001b[0m\n\u001b[0;32m   1577\u001b[0m         \u001b[0mReturn\u001b[0m \u001b[0mthe\u001b[0m \u001b[0mvalue\u001b[0m \u001b[0mat\u001b[0m \u001b[0mkey\u001b[0m\u001b[0;31m \u001b[0m\u001b[0;31m`\u001b[0m\u001b[0;31m`\u001b[0m\u001b[0mname\u001b[0m\u001b[0;31m`\u001b[0m\u001b[0;31m`\u001b[0m\u001b[1;33m,\u001b[0m \u001b[1;32mor\u001b[0m \u001b[1;32mNone\u001b[0m \u001b[1;32mif\u001b[0m \u001b[0mthe\u001b[0m \u001b[0mkey\u001b[0m \u001b[0mdoesn\u001b[0m\u001b[0;31m'\u001b[0m\u001b[0mt\u001b[0m \u001b[0mexist\u001b[0m\u001b[1;33m\u001b[0m\u001b[1;33m\u001b[0m\u001b[0m\n\u001b[0;32m   1578\u001b[0m         \"\"\"\n\u001b[1;32m-> 1579\u001b[1;33m         \u001b[1;32mreturn\u001b[0m \u001b[0mself\u001b[0m\u001b[1;33m.\u001b[0m\u001b[0mexecute_command\u001b[0m\u001b[1;33m(\u001b[0m\u001b[1;34m'GET'\u001b[0m\u001b[1;33m,\u001b[0m \u001b[0mname\u001b[0m\u001b[1;33m)\u001b[0m\u001b[1;33m\u001b[0m\u001b[1;33m\u001b[0m\u001b[0m\n\u001b[0m\u001b[0;32m   1580\u001b[0m \u001b[1;33m\u001b[0m\u001b[0m\n\u001b[0;32m   1581\u001b[0m     \u001b[1;32mdef\u001b[0m \u001b[0m__getitem__\u001b[0m\u001b[1;33m(\u001b[0m\u001b[0mself\u001b[0m\u001b[1;33m,\u001b[0m \u001b[0mname\u001b[0m\u001b[1;33m)\u001b[0m\u001b[1;33m:\u001b[0m\u001b[1;33m\u001b[0m\u001b[1;33m\u001b[0m\u001b[0m\n",
      "\u001b[1;32m~\\anaconda3\\lib\\site-packages\\redis\\client.py\u001b[0m in \u001b[0;36mexecute_command\u001b[1;34m(self, *args, **options)\u001b[0m\n\u001b[0;32m    876\u001b[0m         \u001b[1;32mtry\u001b[0m\u001b[1;33m:\u001b[0m\u001b[1;33m\u001b[0m\u001b[1;33m\u001b[0m\u001b[0m\n\u001b[0;32m    877\u001b[0m             \u001b[0mconn\u001b[0m\u001b[1;33m.\u001b[0m\u001b[0msend_command\u001b[0m\u001b[1;33m(\u001b[0m\u001b[1;33m*\u001b[0m\u001b[0margs\u001b[0m\u001b[1;33m)\u001b[0m\u001b[1;33m\u001b[0m\u001b[1;33m\u001b[0m\u001b[0m\n\u001b[1;32m--> 878\u001b[1;33m             \u001b[1;32mreturn\u001b[0m \u001b[0mself\u001b[0m\u001b[1;33m.\u001b[0m\u001b[0mparse_response\u001b[0m\u001b[1;33m(\u001b[0m\u001b[0mconn\u001b[0m\u001b[1;33m,\u001b[0m \u001b[0mcommand_name\u001b[0m\u001b[1;33m,\u001b[0m \u001b[1;33m**\u001b[0m\u001b[0moptions\u001b[0m\u001b[1;33m)\u001b[0m\u001b[1;33m\u001b[0m\u001b[1;33m\u001b[0m\u001b[0m\n\u001b[0m\u001b[0;32m    879\u001b[0m         \u001b[1;32mexcept\u001b[0m \u001b[1;33m(\u001b[0m\u001b[0mConnectionError\u001b[0m\u001b[1;33m,\u001b[0m \u001b[0mTimeoutError\u001b[0m\u001b[1;33m)\u001b[0m \u001b[1;32mas\u001b[0m \u001b[0me\u001b[0m\u001b[1;33m:\u001b[0m\u001b[1;33m\u001b[0m\u001b[1;33m\u001b[0m\u001b[0m\n\u001b[0;32m    880\u001b[0m             \u001b[0mconn\u001b[0m\u001b[1;33m.\u001b[0m\u001b[0mdisconnect\u001b[0m\u001b[1;33m(\u001b[0m\u001b[1;33m)\u001b[0m\u001b[1;33m\u001b[0m\u001b[1;33m\u001b[0m\u001b[0m\n",
      "\u001b[1;32m~\\anaconda3\\lib\\site-packages\\redis\\client.py\u001b[0m in \u001b[0;36mparse_response\u001b[1;34m(self, connection, command_name, **options)\u001b[0m\n\u001b[0;32m    890\u001b[0m         \u001b[1;34m\"Parses a response from the Redis server\"\u001b[0m\u001b[1;33m\u001b[0m\u001b[1;33m\u001b[0m\u001b[0m\n\u001b[0;32m    891\u001b[0m         \u001b[1;32mtry\u001b[0m\u001b[1;33m:\u001b[0m\u001b[1;33m\u001b[0m\u001b[1;33m\u001b[0m\u001b[0m\n\u001b[1;32m--> 892\u001b[1;33m             \u001b[0mresponse\u001b[0m \u001b[1;33m=\u001b[0m \u001b[0mconnection\u001b[0m\u001b[1;33m.\u001b[0m\u001b[0mread_response\u001b[0m\u001b[1;33m(\u001b[0m\u001b[1;33m)\u001b[0m\u001b[1;33m\u001b[0m\u001b[1;33m\u001b[0m\u001b[0m\n\u001b[0m\u001b[0;32m    893\u001b[0m         \u001b[1;32mexcept\u001b[0m \u001b[0mResponseError\u001b[0m\u001b[1;33m:\u001b[0m\u001b[1;33m\u001b[0m\u001b[1;33m\u001b[0m\u001b[0m\n\u001b[0;32m    894\u001b[0m             \u001b[1;32mif\u001b[0m \u001b[0mEMPTY_RESPONSE\u001b[0m \u001b[1;32min\u001b[0m \u001b[0moptions\u001b[0m\u001b[1;33m:\u001b[0m\u001b[1;33m\u001b[0m\u001b[1;33m\u001b[0m\u001b[0m\n",
      "\u001b[1;32m~\\anaconda3\\lib\\site-packages\\redis\\connection.py\u001b[0m in \u001b[0;36mread_response\u001b[1;34m(self)\u001b[0m\n\u001b[0;32m    750\u001b[0m \u001b[1;33m\u001b[0m\u001b[0m\n\u001b[0;32m    751\u001b[0m         \u001b[1;32mif\u001b[0m \u001b[0misinstance\u001b[0m\u001b[1;33m(\u001b[0m\u001b[0mresponse\u001b[0m\u001b[1;33m,\u001b[0m \u001b[0mResponseError\u001b[0m\u001b[1;33m)\u001b[0m\u001b[1;33m:\u001b[0m\u001b[1;33m\u001b[0m\u001b[1;33m\u001b[0m\u001b[0m\n\u001b[1;32m--> 752\u001b[1;33m             \u001b[1;32mraise\u001b[0m \u001b[0mresponse\u001b[0m\u001b[1;33m\u001b[0m\u001b[1;33m\u001b[0m\u001b[0m\n\u001b[0m\u001b[0;32m    753\u001b[0m         \u001b[1;32mreturn\u001b[0m \u001b[0mresponse\u001b[0m\u001b[1;33m\u001b[0m\u001b[1;33m\u001b[0m\u001b[0m\n\u001b[0;32m    754\u001b[0m \u001b[1;33m\u001b[0m\u001b[0m\n",
      "\u001b[1;31mResponseError\u001b[0m: WRONGTYPE Operation against a key holding the wrong kind of value"
     ]
    }
   ],
   "source": [
    "r.delete(\"lista\")\n",
    "for i in range(10):\n",
    "    r.lpush(\"lista\",i)\n",
    "r.get(\"lista\")"
   ]
  },
  {
   "cell_type": "code",
   "execution_count": 16,
   "metadata": {},
   "outputs": [
    {
     "name": "stdout",
     "output_type": "stream",
     "text": [
      "['9', '8', '7', '6', '5', '4', '3', '2', '1', '0']\n",
      "0\n",
      "['9', '8', '7', '6', '5', '4', '3', '2', '1']\n",
      "9\n",
      "7\n"
     ]
    }
   ],
   "source": [
    "r.delete(\"lista\")\n",
    "for i in range(10):\n",
    "    r.lpush(\"lista\",i)\n",
    "print(r.lrange(\"lista\",0,r.llen(\"lista\")))\n",
    "e = r.rpop(\"lista\")\n",
    "print(e)\n",
    "print(r.lrange(\"lista\",0,-1))  # -1 hasta el final\n",
    "print(r.llen(\"lista\"))\n",
    "print(r.lindex(\"lista\", 2))\n",
    "# index(\"2\")"
   ]
  },
  {
   "cell_type": "markdown",
   "metadata": {},
   "source": [
    "El problema es que una lista puede llegar a crecer demasiado, por eso nos interesa crear 'capped lists', utilizando parejas de operaciones *lpush* y *ltrim* (que corta una lista)"
   ]
  },
  {
   "cell_type": "code",
   "execution_count": 131,
   "metadata": {},
   "outputs": [
    {
     "name": "stdout",
     "output_type": "stream",
     "text": [
      "['160', '150', '140', '130', '120', '110', '50', '40', '30', '20', '10']\n"
     ]
    }
   ],
   "source": [
    "r.lpush(\"lista\",*[10,20,30,40,50]) # El * es un truco de python\n",
    "\n",
    "r.lpush(\"lista\",*[110,120,130,140,150,160])\n",
    "r.ltrim(\"lista\",0,10)\n",
    "print(r.lrange(\"lista\",0,-1))"
   ]
  },
  {
   "cell_type": "markdown",
   "metadata": {},
   "source": [
    "La siguiente aplicación (productor/consumidor) se puede lograr con lpush y rpop. Si embargo esto tiene el problema de que puede no haber nada, y el rpop devolver None (*polling*). Para resolver esta situación, Redis propone dos funciones *brpop(keys, timeout=0)* y *blpop(keys, timeout=0)*, que quedan esperando (hasta un timeout) para devolver el resultado.\n",
    "\n",
    "**P7** \n",
    "Cambiar el programa sensor2.py para que los valores se vayan añadiendo a una lista *lsensor* con lpush que en ningún caso puede exceder los 10 elementos. Además el tiempo de espera se hará variable, entre 1 y 5 segundos\n",
    "\n",
    "El consumidor (que añadiremos en lasiguiente caja de código) debe estar leyendo para contar 0s y 9s. Cada lectura (brpop) debe esperar un máximo de 3 segundos, parando en caso contrario.\n",
    "\n",
    "Consumidor:"
   ]
  },
  {
   "cell_type": "code",
   "execution_count": 25,
   "metadata": {},
   "outputs": [
    {
     "name": "stdout",
     "output_type": "stream",
     "text": [
      "['2', '1']\n"
     ]
    }
   ],
   "source": [
    "# Solución\n",
    "r.set(\"ceros\",0)\n",
    "r.set(\"nueves\",0)\n",
    "SIGUE = True\n",
    "while SIGUE:\n",
    "    x  = r.blpop(\"lsensor\",3)  # espera durante 3 segundos\n",
    "    if x!=None:\n",
    "        l,valor = x\n",
    "        if valor==\"0\":\n",
    "            r.incr(\"ceros\")\n",
    "        elif valor==\"9\":\n",
    "            r.incr(\"nueves\")\n",
    "    else:\n",
    "        SIGUE=False\n",
    "print(r.mget([\"ceros\",\"nueves\"]))"
   ]
  },
  {
   "cell_type": "markdown",
   "metadata": {},
   "source": [
    "### Hashes\n",
    "\n",
    "Un *hash* representa un diccionario Python. El nombre de la clave principal agrupa, a su vez, a varios pares clave valor"
   ]
  },
  {
   "cell_type": "code",
   "execution_count": 18,
   "metadata": {},
   "outputs": [
    {
     "name": "stdout",
     "output_type": "stream",
     "text": [
      "El nombre del cliente con identificador  511  es  Herminia\n",
      "El hash tiene 3  elementos\n",
      "Claves:  ['511', '011', '039']\n",
      "Valores:  ['Herminia', 'Calixta', 'Bertoldo']\n",
      "1\n",
      "{'511': 'Herminia', '011': 'Calixta'}\n"
     ]
    }
   ],
   "source": [
    "r.hset(\"usuarios\", \"039\", \"Bertoldo\")\n",
    "\n",
    "r.hset(\"usuarios\", \"511\", \"Herminia\")\n",
    "\n",
    "r.hset(\"usuarios\", \"011\", \"Calixta\")\n",
    "\n",
    "id=\"511\"\n",
    "print(\"El nombre del cliente con identificador \",id,\" es \",r.hget(\"usuarios\",id))\n",
    "\n",
    "print(\"El hash tiene\", r.hlen(\"usuarios\"),\" elementos\")\n",
    "print(\"Claves: \",r.hkeys(\"usuarios\"))\n",
    "print(\"Valores: \",r.hvals(\"usuarios\"))\n",
    "print(r.hdel(\"usuarios\", \"039\"))\n",
    "print(r.hgetall(\"usuarios\"))"
   ]
  },
  {
   "cell_type": "markdown",
   "metadata": {},
   "source": [
    "- hset devuelve 1 si la clave es nuevo, 0 en otro caso. Si se quiere crear la clave solo si no existe, utilizar hsetnx\n",
    "\n",
    "Otras funciones hash:\n",
    "\n",
    "- hdel(name, ```*```keys): elimina las claves del hash\n",
    "- hexists(name, key): indica si la clave existe en el hash\n",
    "- hgetall(name): devuelve el hash completo en forma de diccionario\n",
    "- hincrby(name, key, amount=1): incrementa un elemento del hash\n",
    "- hincrbyfloat(name, key, amount=1.0): lo mismo para float\n",
    "- hmget(name, keys, ```*```args): get múltiple\n",
    "- hmset(name, mapping): set múltiple, *mapping* es un diccionario"
   ]
  },
  {
   "cell_type": "markdown",
   "metadata": {},
   "source": [
    "**P8** \n",
    "Cambiar el consumidor de P7 para que cuente el número de apariciones de cada valor emitido por el sensor, usando un hash \"valores\" que irá añadiendo como nueva clave y valor 1 los nuevos valores emitidos por el sensor, o incrementando los valores ya existentes"
   ]
  },
  {
   "cell_type": "code",
   "execution_count": 142,
   "metadata": {},
   "outputs": [
    {
     "name": "stdout",
     "output_type": "stream",
     "text": [
      "7\n",
      "7\n",
      "1\n",
      "2\n",
      "2\n",
      "0\n",
      "8\n",
      "3\n",
      "9\n",
      "6\n",
      "7\n",
      "0 1\n",
      "1 1\n",
      "2 2\n",
      "3 1\n",
      "4 None\n",
      "5 None\n",
      "6 1\n",
      "7 3\n",
      "8 1\n",
      "9 1\n"
     ]
    }
   ],
   "source": [
    "# Solución\n",
    "\n",
    "r.delete(\"valores\")    \n",
    "SIGUE=True\n",
    "while SIGUE:\n",
    "    v = r.blpop(\"lsensor\",3)\n",
    "    if v!=None:\n",
    "        s,a = v\n",
    "        r.hincrby(\"valores\",a)\n",
    "        print(a)\n",
    "    else:\n",
    "        SIGUE=False\n",
    "        \n",
    "# mostrar el resultado\n",
    "for i in range(10):\n",
    "    print(i,r.hget(\"valores\",i))\n"
   ]
  },
  {
   "cell_type": "markdown",
   "metadata": {},
   "source": [
    "### Sets\n",
    "\n",
    "Colecciones no ordenadas de strings sin repeticiones.\n",
    "\n",
    "- sadd(name,```*```e): añade un elemento al set\n",
    "- smembers(name): elementos en el set\n",
    "- scard(name): cardinal\n",
    "- sismember(name,e): Indica si e está en el conjunto (True) o no (False)\n"
   ]
  },
  {
   "cell_type": "code",
   "execution_count": 9,
   "metadata": {},
   "outputs": [
    {
     "name": "stdout",
     "output_type": "stream",
     "text": [
      "3\n",
      "{'2', '3', '1'}\n",
      "False\n"
     ]
    }
   ],
   "source": [
    "r.sadd(\"s\",*[1,2,3])\n",
    "r.sadd(\"s\",3)\n",
    "\n",
    "print(r.scard(\"s\"))\n",
    "print(r.smembers(\"s\"))\n",
    "\n",
    "print(r.sismember(\"s\",4))\n"
   ]
  },
  {
   "cell_type": "markdown",
   "metadata": {},
   "source": [
    "**P9**: Queremos utizar los conjuntos para asociar tags a distintos elementos o items. Completar el siguiente código"
   ]
  },
  {
   "cell_type": "code",
   "execution_count": 143,
   "metadata": {},
   "outputs": [],
   "source": [
    "def addTag(r,item,tag):\n",
    "    # queremos que en el conjunto asociado al item se añada el tag, y al revés, \n",
    "    # en el del tag el item\n",
    "    r.sadd(item,tag)\n",
    "    r.sadd(tag,item)\n",
    "    \n",
    "    "
   ]
  },
  {
   "cell_type": "code",
   "execution_count": 16,
   "metadata": {},
   "outputs": [
    {
     "name": "stdout",
     "output_type": "stream",
     "text": [
      "{'comic', 'superhéroes', 'fantasía', 'arañas'}\n",
      "{'Spiderman', 'Peppa Pig'}\n"
     ]
    }
   ],
   "source": [
    "# Para probar\n",
    "r.flushall()\n",
    "addTag(r,\"Spiderman\",\"fantasía\")\n",
    "addTag(r,\"Spiderman\",\"superhéroes\")\n",
    "addTag(r,\"Spiderman\",\"comic\")\n",
    "addTag(r,\"Spiderman\",\"arañas\")\n",
    "addTag(r,\"Peppa Pig\",\"fantasía\")\n",
    "addTag(r,\"Peppa Pig\",\"infantil\")\n",
    "addTag(r,\"Peppa Pig\",\"charcos\")\n",
    "\n",
    "# queremos saber todas las etiquetas asociadas a Spiderman\n",
    "print(r.smembers(\"Spiderman\"))\n",
    "# todos los items asociados al tag \"fantasía\"\n",
    "print(r.smembers(\"fantasía\"))\n"
   ]
  },
  {
   "cell_type": "markdown",
   "metadata": {},
   "source": [
    "Los conjuntos también incluyen las típicas operaciones de unión, intersección, etc-"
   ]
  },
  {
   "cell_type": "code",
   "execution_count": 19,
   "metadata": {},
   "outputs": [
    {
     "data": {
      "text/plain": [
       "{'fantasía'}"
      ]
     },
     "execution_count": 19,
     "metadata": {},
     "output_type": "execute_result"
    }
   ],
   "source": [
    "# Valores en común\n",
    "r.sinter(\"Spiderman\",\"Peppa Pig\")"
   ]
  },
  {
   "cell_type": "markdown",
   "metadata": {},
   "source": [
    "Una operación curiosa es spop(name) que elimina y devuelve un elemento al azar del conjunto.\n",
    "\n",
    "**P10** Dada la siguiente definición de baraja, escribir un código que simule repartir 5 cartas a dos jugadores (5 a cada uno). Llamemos c1 y c2 a estos dos conjuntos\n"
   ]
  },
  {
   "cell_type": "code",
   "execution_count": 146,
   "metadata": {},
   "outputs": [
    {
     "data": {
      "text/plain": [
       "{'C1',\n",
       " 'C10',\n",
       " 'C2',\n",
       " 'C3',\n",
       " 'C4',\n",
       " 'C5',\n",
       " 'C6',\n",
       " 'C7',\n",
       " 'C8',\n",
       " 'C9',\n",
       " 'CJ',\n",
       " 'CK',\n",
       " 'CQ',\n",
       " 'D1',\n",
       " 'D10',\n",
       " 'D2',\n",
       " 'D3',\n",
       " 'D4',\n",
       " 'D5',\n",
       " 'D6',\n",
       " 'D7',\n",
       " 'D8',\n",
       " 'D9',\n",
       " 'DJ',\n",
       " 'DK',\n",
       " 'DQ',\n",
       " 'P1',\n",
       " 'P10',\n",
       " 'P2',\n",
       " 'P3',\n",
       " 'P4',\n",
       " 'P5',\n",
       " 'P6',\n",
       " 'P7',\n",
       " 'P8',\n",
       " 'P9',\n",
       " 'PJ',\n",
       " 'PK',\n",
       " 'PQ',\n",
       " 'T1',\n",
       " 'T10',\n",
       " 'T2',\n",
       " 'T3',\n",
       " 'T4',\n",
       " 'T5',\n",
       " 'T6',\n",
       " 'T7',\n",
       " 'T8',\n",
       " 'T9',\n",
       " 'TJ',\n",
       " 'TK',\n",
       " 'TQ'}"
      ]
     },
     "execution_count": 146,
     "metadata": {},
     "output_type": "execute_result"
    }
   ],
   "source": [
    "r.delete(\"mazo\")\n",
    "r.sadd(\"mazo\",*[i+j for i in [\"C\",\"P\",\"T\",\"D\"]\n",
    "                    for j in [\"1\",\"2\",\"3\",\"4\",\"5\",\"6\",\"7\",\"8\",\"9\",\"10\",\"J\",\"Q\",\"K\"]])\n",
    "r.smembers(\"mazo\")"
   ]
  },
  {
   "cell_type": "code",
   "execution_count": 148,
   "metadata": {},
   "outputs": [],
   "source": [
    "# solución\n",
    "r.delete(\"c1\")\n",
    "r.delete(\"c2\")\n",
    "\n",
    "for i in range(5):\n",
    "    r.sadd(\"c1\",r.spop(\"mazo\"))\n",
    "    r.sadd(\"c2\",r.spop(\"mazo\"))\n"
   ]
  },
  {
   "cell_type": "code",
   "execution_count": 149,
   "metadata": {},
   "outputs": [
    {
     "name": "stdout",
     "output_type": "stream",
     "text": [
      "{'PQ', 'C8', 'D4', 'T6', 'T3'}\n",
      "{'C7', 'C1', 'D8', 'P4', 'T7'}\n",
      "{'CQ', 'D7', 'TQ', 'PJ', 'P6', 'CK', 'T2', 'C3', 'P1', 'D5', 'D6', 'T10', 'C2', 'D1', 'DK', 'P5', 'T1', 'DJ', 'P2', 'P10', 'P8', 'DQ', 'C6', 'P9', 'T8', 'C5', 'D2', 'D3', 'T5', 'PK', 'TJ', 'D10', 'C4', 'P3', 'D9', 'CJ', 'TK', 'C10', 'P7', 'T4', 'C9', 'T9'}\n"
     ]
    }
   ],
   "source": [
    "print(r.smembers(\"c1\"))\n",
    "print(r.smembers(\"c2\"))\n",
    "print(r.smembers(\"mazo\"))\n"
   ]
  },
  {
   "cell_type": "markdown",
   "metadata": {},
   "source": [
    "### Sorted Sets\n",
    "\n",
    "Los conjuntos ordenados son un tipo muy importante en Redis. Se parecen a los conjuntos con un añadido: cada cadena del conjunto tiene un *score* (número real), y el conjunto está ordeado por este valor según el siguiente criterio:\n",
    "\n",
    "- Si A y B son dos elementos del conjunto y A.score > B.score, entonces A>B\n",
    "- Si A.score==B.score entonces A > B si A es lexicográficamente mayor que B\n",
    "\n",
    "**Ejemplo** Guardamos usuarios de Instagram con su número de seguidores\n"
   ]
  },
  {
   "cell_type": "code",
   "execution_count": 150,
   "metadata": {},
   "outputs": [
    {
     "name": "stdout",
     "output_type": "stream",
     "text": [
      "5\n",
      "['Kim Kardashian', 'Dwayne Johnson', 'Selena', 'Ariana', 'Cristiano']\n",
      "['Cristiano', 'Ariana', 'Selena', 'Dwayne Johnson', 'Kim Kardashian']\n",
      "[('Kim Kardashian', 131.0), ('Dwayne Johnson', 135.0), ('Selena', 147.0), ('Ariana', 149.0), ('Cristiano', 158.0)]\n",
      "[('Kim Kardashian', 131.0), ('Dwayne Johnson', 135.0), ('Selena', 147.0), ('Ariana', 149.0)]\n",
      "4\n",
      "158.0\n"
     ]
    }
   ],
   "source": [
    "r.delete(\"instagram\")\n",
    "r.zadd(\"instagram\",{\"Ariana\": 149, \"Cristiano\":158, \"Selena\":147, \"Dwayne Johnson\":135, \"Kim Kardashian\":131})\n",
    "print(r.zcard(\"instagram\"))\n",
    "print(r.zrange(\"instagram\",0,-1))\n",
    "print(r.zrevrange(\"instagram\",0,-1))\n",
    "print(r.zrange(\"instagram\",0,-1, withscores=True))\n",
    "print(r.zrangebyscore(\"instagram\",130,150, withscores=True))\n",
    "print(r.zrank(\"instagram\",\"Cristiano\"))\n",
    "print(r.zscore(\"instagram\",\"Cristiano\"))\n",
    "\n"
   ]
  },
  {
   "cell_type": "markdown",
   "metadata": {},
   "source": [
    "También hay funciones para modificar los zsets:\n",
    "\n",
    "- zincrby(name, amount, value): incrementa value en amount dentro del zset name\n",
    "- zpopmax(name, count=None): devuelve el elemento con máximo score y lo quita del zset\n",
    "- zpopmin(name, count=None):devuelve el elemento con mínimo score y lo quita del zset\n",
    "- zrem(name, ```*```values): elimina los elementos values del zset"
   ]
  },
  {
   "cell_type": "markdown",
   "metadata": {},
   "source": [
    "### Bases de datos\n",
    "\n",
    "Hasta ahora todo lo hemos hecho en la misma base de datos. Sin embargo, podemos distinguir entre diferentes bases de datos, para agrupar claves en temáticas similares. En Redis se utilizan números: 0 para la primera base de datos, 1 para la segunda, etc.\n",
    "\n",
    "```\n",
    "r3 = redis.Redis(host='localhost', port=6379, db =3)\n",
    "r3.ping()\n",
    "```\n",
    "\n",
    "- move(name, db); cambia la clave name a la base de datos db\n",
    "- swapdb(first, second): intercambia dos bases de datos, de forma que todo el mundo conectado a *first* pasa a ver *second* y viceversa. Ejemplo: *r.swapdb(0,1)*"
   ]
  },
  {
   "cell_type": "markdown",
   "metadata": {},
   "source": [
    "### Persistencia\n",
    "\n",
    "\n",
    "Dos formas:\n",
    "- RDF: Grabación a los intervalos indicados\n",
    "- AOF: Se va guardando cada operación en un log\n",
    "\n",
    "**RDB**\n",
    "Ventajas:\n",
    "- Perfecto para backups\n",
    "- Recuperaciones más rápidas\n",
    "\n",
    "Desventajas:\n",
    "- Puede perder datos\n",
    "- En los momentos de la grabación el servidor puede detenerse momentáneamente si la base de datos es muy grande\n",
    "\n",
    "\n",
    "**AOF**\n",
    "Ventajas:\n",
    "- Grabación constante, recuperación completa\n",
    "- Se puede revisar la secuencia de operaciones (se crea un log)\n",
    "\n",
    "Desventajas:\n",
    "- Ficheros de grabación más grandes\n",
    "- En casos extremos puede ser más lento.\n",
    "- Para la recuperación hay que reconstruir la base de datos paso a paso.\n",
    "\n",
    "La forma elegida se puede cambiar en el fichero de configuración inicial.\n",
    "\n",
    "- lastsave(): la última vez que se grabó la base de datos\n",
    "- save(): graba la base de datos de forma persistente\n",
    "- bgsave(): igual pero en background, sin bloquear\n",
    "\n"
   ]
  },
  {
   "cell_type": "code",
   "execution_count": 154,
   "metadata": {},
   "outputs": [
    {
     "data": {
      "text/plain": [
       "True"
      ]
     },
     "execution_count": 154,
     "metadata": {},
     "output_type": "execute_result"
    }
   ],
   "source": [
    "## ejemplo de grabado\n",
    "r.flushall()\n",
    "r.set(\"a\",1)\n",
    "r.save()\n",
    "r.set(\"b\",1)\n"
   ]
  },
  {
   "cell_type": "markdown",
   "metadata": {},
   "source": [
    "Matar el servidor\n",
    "```\n",
    "ps -A | grep \"redis\"\n",
    "3733 ?        00:04:25 redis-server\n",
    "\n",
    "kill -9 3733\n",
    "redis-server\n",
    "```"
   ]
  },
  {
   "cell_type": "code",
   "execution_count": 152,
   "metadata": {},
   "outputs": [
    {
     "name": "stdout",
     "output_type": "stream",
     "text": [
      "1\n",
      "1\n"
     ]
    }
   ],
   "source": [
    "print(r.get(\"a\"))\n",
    "print(r.get(\"b\"))\n"
   ]
  },
  {
   "cell_type": "code",
   "execution_count": null,
   "metadata": {},
   "outputs": [],
   "source": []
  }
 ],
 "metadata": {
  "kernelspec": {
   "display_name": "Python 3",
   "language": "python",
   "name": "python3"
  },
  "language_info": {
   "codemirror_mode": {
    "name": "ipython",
    "version": 3
   },
   "file_extension": ".py",
   "mimetype": "text/x-python",
   "name": "python",
   "nbconvert_exporter": "python",
   "pygments_lexer": "ipython3",
   "version": "3.7.6"
  }
 },
 "nbformat": 4,
 "nbformat_minor": 2
}
