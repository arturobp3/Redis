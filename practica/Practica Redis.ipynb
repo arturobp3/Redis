{
 "cells": [
  {
   "cell_type": "markdown",
   "metadata": {},
   "source": [
    "# Práctica - Redis y MongoDB\n",
    "\n",
    "0. Inicial en un terminal los Jupyter Notebooks, algo que ya has hecho si estás leyendo esto.\n",
    "1. Necesitaremos una conexión a redis, quizás la que ya hemos creado en redislabs\n",
    "2. También mongo, quizás la conexión a Atlas vista en una de las prácticas voluntarias anteriores (o la conexión en local, en este caso recordar arrancar el servidor mongod -dbpath datos)\n",
    "3. Bajar los ficheros tweet.json y user.json\n",
    "4. Desde otro terminal de linux teclear en la carpeta donde se han descargado los ficheros\n",
    "\n",
    "```\n",
    "mongoimport --db test --collection user  --drop --file user.json\n",
    "mongoimport --db test --collection tweet --drop --file tweet.json\n",
    "```\n",
    "o importarlos desde Atlas. \n",
    "\n",
    "Se importaran 141 y 17834 documentos, respectivamente. Los datos corresponden a una muestra de tweets obtenidos durante las últimas elecciones USA, separados en una colección con los datos de los usuarios y otra colección con los datos de los tweets.\n",
    "\n",
    "Por ejemplo, un tweet (no es el formato original, han sido preprocesados).\n",
    "\n",
    "```\n",
    "{\n",
    "\t\"_id\" : NumberLong(\"795892189377286144\"),\n",
    "\t\"text\" : \"#ImVotingBecause @realDonaldTrump supports EVERY American citizen.\\n\\n#MAGA #ElectionNight #Election2016 https://t.co/iqnVh1o2YH\",\n",
    "\t\"created_at\" : ISODate(\"2016-11-08T07:34:19Z\"),\n",
    "\t\"user\" : {\n",
    "\t\t\"_id\" : \"721446222549147648\",\n",
    "\t\t\"verified\" : false,\n",
    "\t\t\"screen\" : \"FacMagnaAmerica\" // nombre en twitter\n",
    "\t},\n",
    "\t\"RT\" : false,            // no es retweet\n",
    "\t\"clinton\" : false,       // no habla de clinton\n",
    "\t\"trump\" : true,          // sí habla de trump\n",
    "\t\"mentions\" : [           // gente a la que menciona\n",
    "\t\t\"realDonaldTrump\"\n",
    "\t],\n",
    "\t\"hlabel\" : 0,            // opinión sobre clinton\n",
    "\t\"tlabel\" : 1,            // opinión sobre trump\n",
    "\t\"opinion\" : 1            // si el tweet contiene opinión\n",
    "}\n",
    "```\n",
    "\n",
    "user:\n",
    "\n",
    "```\n",
    "{\n",
    "\t\"_id\" : \"246939630\",  // id del user\n",
    "\t\"lang\" : \"en\",        // idioma preferido\n",
    "\t\"verified\" : true,    // cuenta verificada\n",
    "\t\"screen_name\" : \"shannonrwatts\",\n",
    "\t\"url\" : \"http://www.momsdemandaction.org\",\n",
    "\t\"created_at\" : ISODate(\"2011-02-03T19:32:59Z\"),\n",
    "\t\"time_zone\" : \"Indiana (East)\",\n",
    "\t\"tweets\" : {\n",
    "\t\t\"all\" : 41602,   // total de tweets en esta cuenta\n",
    "\t\t\"total\" : 103,   // total de tweets en este dataset\n",
    "\t\t\"RT\" : 59,       // de los cuales son RTs\n",
    "\t\t\"original\" : 44  // de los cuales son originales\n",
    "\t},\n",
    "\t\"followers\" : 19677,\n",
    "\t\"location\" : null,\n",
    "\t\"following\" : 1950,\n",
    "\t\"favourites_count\" : 31228,\n",
    "\t\"geo_enabled\" : false,\n",
    "\t\"id\" : \"246939630\",\n",
    "\t\"clinton\" : true, // si ha hablado de clinton\n",
    "\t\"trump\" : true,   // si ha hablado de trump\n",
    "\t\"mentions\" : 510, // num. menciones realizadas en dataset \n",
    "\t\"RTin\" : 4779, // número de RTs recibidos en dataset\n",
    "\t\"rank\" : {  // datos normalizados\n",
    "\t\t\"followers\" : 17689.5,\n",
    "\t\t\"mentions\" : 450.5,\n",
    "\t\t\"RTin\" : 122\n",
    "\t},\n",
    "\t\"norm\" : {\n",
    "\t\t\"mentions\" : 11.590909090909092,\n",
    "\t\t\"RTin\" : 108.61363636363636\n",
    "\t},\n",
    "\t\"normrank\" : {\n",
    "\t\t\"followers\" : 17689.5,\n",
    "\t\t\"mentions\" : 10483.25,\n",
    "\t\t\"RTin\" : 731\n",
    "\t}\n",
    "}\n",
    "```\n",
    "Los valores hlabel y tlabel pueden ser -1,0 y +1.\n",
    "\n",
    "\n",
    "Empezamos importando librerías y conectando con mongo y redis:\n"
   ]
  },
  {
   "cell_type": "code",
   "execution_count": 14,
   "metadata": {
    "scrolled": true
   },
   "outputs": [
    {
     "name": "stdout",
     "output_type": "stream",
     "text": [
      "Bases de datos en MongoDB [{'name': 'ABD', 'sizeOnDisk': 73728.0, 'empty': False}, {'name': 'Product_Catalogue', 'sizeOnDisk': 77824.0, 'empty': False}, {'name': 'admin', 'sizeOnDisk': 32768.0, 'empty': False}, {'name': 'astronomia', 'sizeOnDisk': 61440.0, 'empty': False}, {'name': 'config', 'sizeOnDisk': 110592.0, 'empty': False}, {'name': 'local', 'sizeOnDisk': 77824.0, 'empty': False}, {'name': 'movilmongo', 'sizeOnDisk': 53248.0, 'empty': False}, {'name': 'practica', 'sizeOnDisk': 6250496.0, 'empty': False}, {'name': 'test', 'sizeOnDisk': 73728.0, 'empty': False}, {'name': 'videoclub', 'sizeOnDisk': 122880.0, 'empty': False}]\n",
      "Conexión con Redis:  True\n"
     ]
    }
   ],
   "source": [
    "import json\n",
    "import pymongo\n",
    "from pprint import pprint\n",
    "import redis\n",
    "import time\n",
    "\n",
    "# iniciamos mongo, en mi caso en local\n",
    "from pymongo import MongoClient\n",
    "client = MongoClient('mongodb://127.0.0.1:27017/')\n",
    "print(\"Bases de datos en MongoDB\",list(client.list_databases()))\n",
    "db = client.test\n",
    "\n",
    "# iniciamos redis, en mi caso en red:\n",
    "\n",
    "redisconexion = \"redis-12588.c135.eu-central-1-1.ec2.cloud.redislabs.com\"\n",
    "redispuerto = 12588\n",
    "passwd = \"YNUBRlaFh6kJnTKfDxsXur44M3jOkNqy\"\n",
    "\n",
    "r = redis.Redis(host=redisconexion, password=passwd, port=redispuerto, charset=\"utf-8\", decode_responses=True, db=0)\n",
    "print(\"Conexión con Redis: \",r.ping())"
   ]
  },
  {
   "cell_type": "markdown",
   "metadata": {},
   "source": [
    "Comenzamos mostrando una función que tenemos que modificar. \n",
    "Sustituirá a aggregate, pero utilizando Redis como cache.\n",
    "De momento es una versión básica, que usaremos como base para el ejercio 1. Esta función recibe 3 parámetros.\n",
    "- db: la conexión con MongoDB\n",
    "- coleccion: la colección a la que se quiere consultar (como string)\n",
    "- pipeline: las consulta de agregación a realizar.\n",
    "\n",
    "Devuelve un máximo de 10 documentos (una limitación que asumimos para simplificar)"
   ]
  },
  {
   "cell_type": "code",
   "execution_count": 15,
   "metadata": {},
   "outputs": [],
   "source": [
    "def aggregate(db, coleccion, pipeline):\n",
    "    pipe = pipeline.copy() # para no modificar lo que nos da el usuario\n",
    "    pipe.append({\"$limit\":10}) # añadimos una etapa que limita a 10\n",
    "    res = db[coleccion].aggregate(pipe) # a mongo!\n",
    "    salida = [doc for doc in res]\n",
    "    return salida"
   ]
  },
  {
   "cell_type": "markdown",
   "metadata": {},
   "source": [
    "Para probarla podemos ejecutar esta consulta simple"
   ]
  },
  {
   "cell_type": "code",
   "execution_count": 16,
   "metadata": {},
   "outputs": [
    {
     "name": "stdout",
     "output_type": "stream",
     "text": [
      "[{'RT': False,\n",
      "  'text': \"I've lived in the USA for 7 years. I have a green card but I can't \"\n",
      "          'vote. If you are able to then please vote @HillaryClinton NOT the '\n",
      "          'buffoon',\n",
      "  'user': {'screen': 'JosephMorgan'}},\n",
      " {'RT': True,\n",
      "  'text': 'RT @jpm05880: @realDonaldTrump latinos storming precinct 10 sw '\n",
      "          'Miami to vote for our one and only president Trump!! '\n",
      "          'https://t.co/46GC1n8LU6',\n",
      "  'user': {'screen': 'FacMagnaAmerica'}},\n",
      " {'RT': True,\n",
      "  'text': 'RT @Chairmnoomowmow: @realDonaldTrump @CNN @MSNBC @NBCNews '\n",
      "          '@ABCPolitics @CBSNews \\n'\n",
      "          '\\n'\n",
      "          '#HillaryClinton #wikileaks #LeftistHate https://t.co/mA8…',\n",
      "  'user': {'screen': 'FacMagnaAmerica'}},\n",
      " {'RT': False,\n",
      "  'text': '@GVkacha @TheLastWord @realDonaldTrump \\n\\nhttps://t.co/zaluOXL8N0',\n",
      "  'user': {'screen': 'FacMagnaAmerica'}},\n",
      " {'RT': True,\n",
      "  'text': 'RT @DanScavino: Thank you Pensacola, Florida!\\n'\n",
      "          '@realDonaldTrump @mike_pence will #DrainTheSwamp with you- and MAKE '\n",
      "          'AMERICA GREAT AGA… ',\n",
      "  'user': {'screen': 'FacMagnaAmerica'}},\n",
      " {'RT': True,\n",
      "  'text': \"RT @SportsPlusShow: @wpjenna ummm lady you're full of shit you're \"\n",
      "          'tweeting this now like it just happened wonder why @realDonaldTrump '\n",
      "          's… ',\n",
      "  'user': {'screen': 'FacMagnaAmerica'}},\n",
      " {'RT': True,\n",
      "  'text': 'RT @1111graphics: Just cast my vote for the next POTUS: '\n",
      "          '@realDonaldTrump \\n'\n",
      "          '\\n'\n",
      "          '#MakeAmericaGreatAgain 🇺🇸\\n'\n",
      "          '#GaysForTrump 🇺🇸 https://t.co/9kiXiy3x…',\n",
      "  'user': {'screen': 'FacMagnaAmerica'}},\n",
      " {'RT': True,\n",
      "  'text': 'RT @aniyah_vernisha: I voted for @HillaryClinton &amp; now I regret '\n",
      "          'it if I the option in my state I would change my vote to… ',\n",
      "  'user': {'screen': 'FacMagnaAmerica'}},\n",
      " {'RT': False,\n",
      "  'text': '#RememberWhenTrump\\n'\n",
      "          '\\n'\n",
      "          \"🍇 'member when @realDonaldTrump laid out his plan for America's \"\n",
      "          'future in 2 minutes? 🍇 https://t.co/Bq8lzWK3dC',\n",
      "  'user': {'screen': 'FacMagnaAmerica'}},\n",
      " {'RT': True,\n",
      "  'text': 'RT @laurenpaige1985: The media says Melania cant talk online '\n",
      "          'bullying because of @realDonaldTrump So does that mean HRC cant '\n",
      "          'talk Womens ri…',\n",
      "  'user': {'screen': 'FacMagnaAmerica'}}]\n"
     ]
    }
   ],
   "source": [
    "# en lugar de \n",
    "#res = db.tweet.aggregate([\n",
    "#{'$project':{\"user.screen\":1, \"text\":1, \"RT\":1, \"_id\":0}}\n",
    "#])\n",
    "res = aggregate(db,'tweet',[\n",
    "{'$project':{\"user.screen\":1, \"text\":1, \"RT\":1, \"_id\":0}}\n",
    "])\n",
    "pprint(res)\n",
    "\n"
   ]
  },
  {
   "cell_type": "markdown",
   "metadata": {},
   "source": [
    "## Pregunta 1. [2 puntos]\n",
    "\n",
    "Escribir una versión de aggregate con la misma cabecera tal\n",
    "que utilice Redis como cache:\n",
    "    \n",
    "- Si la consulta está en cache, devolverá la respuesta almacenada por Redis sin llamar a Mongo,  y le actualizará el tiempo de vida a 5 segundos\n",
    "- Si no lo está hará la consulta a mongo tal y como muestra la versión anterior de aggregate, pero antes de devolver el resultado pondrá en cache el resultado, con un tiempo de vida de 5 segundos\n",
    "\n",
    "En ambos casos, la función mostrará por pantalla un mensaje 'recuperado de cache' (primer caso) o 'acceso a Mongo' (segundo caso).\n",
    "\n",
    "El valor que se devolverá será un array de respuestas, no un string.\n",
    "\n",
    "Idea:\n",
    "La forma de hacerlo es representar la propia consulta como clave y su respuesta como valor. \n",
    "\n",
    "- Para convertir el pipeline en un string que será la clave en redis podemos utilizar json.dumps(pipeline), que devuelve un string a partir de un pipeline, ese string será la clave\n",
    "\n",
    "- Igualmente json.dumps(l) nos convertirá la respuesta obtenido por mongo en un string que podemos almacenar como valor de la clave. En este caso `l`es la lista con los 10 primeros documentos devueltos por la consulta.\n",
    "\n",
    "- Finalmente, si la consulta ya existe, tenemos que convertir el valor de una consulta que ya se ha hecho a mongo para no devolver un string podemos usar ` json.loads(valor)`\n",
    "\n",
    "\n",
    "     "
   ]
  },
  {
   "cell_type": "code",
   "execution_count": 93,
   "metadata": {},
   "outputs": [],
   "source": [
    "def aggregate(db,coleccion,pipeline):\n",
    "    pipe = pipeline.copy() # para no modificar lo que nos da el usuario\n",
    "    pipe.append({\"$limit\":10}) # añadimos una etapa que limita a 10\n",
    "    \n",
    "    queryString = json.dumps(pipe)\n",
    "    if r.exists(queryString):\n",
    "        queryResult = r.get(queryString)\n",
    "        r.set(queryString, queryResult, ex=5)\n",
    "        print(\"Acceso a cache\")\n",
    "        return json.loads(queryResult)\n",
    "    else:\n",
    "        res = db[coleccion].aggregate(pipe) # a mongo!\n",
    "        salida = [doc for doc in res]\n",
    "        r.set(queryString, json.dumps(salida), ex=5)\n",
    "        print(\"Acceso a Mongo\")\n",
    "        return salida"
   ]
  },
  {
   "cell_type": "code",
   "execution_count": 122,
   "metadata": {
    "scrolled": true
   },
   "outputs": [
    {
     "name": "stdout",
     "output_type": "stream",
     "text": [
      "Acceso a Mongo\n",
      "[{'_id': 0, 'count': 11338},\n",
      " {'_id': -1, 'count': 4645},\n",
      " {'_id': 1, 'count': 1851}]\n",
      "Acceso a cache\n",
      "[{'_id': 0, 'count': 11338},\n",
      " {'_id': -1, 'count': 4645},\n",
      " {'_id': 1, 'count': 1851}]\n",
      "Acceso a cache\n"
     ]
    }
   ],
   "source": [
    "### Tests de la pregunta 1. No cambiar\n",
    "r.flushall()\n",
    "res = aggregate(db,'tweet',[{'$sortByCount':'$hlabel'}])\n",
    "pprint(res)\n",
    "time.sleep(3)\n",
    "res = aggregate(db,'tweet',[{'$sortByCount':'$hlabel'}])\n",
    "pprint(res)\n",
    "time.sleep(6)\n",
    "res = aggregate(db,'tweet',[{'$sortByCount':'$hlabel'}])\n",
    "\n",
    "# salida esperada (sin # al principio, claro)\n",
    "# acceso a Mongo\n",
    "#[{'_id': 0, 'count': 11338},\n",
    "# {'_id': -1, 'count': 4645},\n",
    "# {'_id': 1, 'count': 1851}]\n",
    "#acceso a cache\n",
    "#[{'_id': 0, 'count': 11338},\n",
    "# {'_id': -1, 'count': 4645},\n",
    "# {'_id': 1, 'count': 1851}]\n",
    "#acceso a Mongo\n"
   ]
  },
  {
   "cell_type": "markdown",
   "metadata": {},
   "source": [
    "### Pregunta 2\n",
    "\n",
    "Usando la colección tweet, para cada usuario con al menos 10 tweets, indicar el número total de tweets. El usuario corresponde al campo \"user.screen\".  La salida será de la forma:\n",
    "\n",
    "```\n",
    "[{'_id': 'FoxNews', 'ntweets': 471},\n",
    " {'_id': 'DanScavino', 'ntweets': 51},\n",
    " {'_id': 'KellyannePolls', 'ntweets': 18},\n",
    " {'_id': 'LouDobbs', 'ntweets': 34},\n",
    " {'_id': 'FoxBusiness', 'ntweets': 271},\n",
    " {'_id': 'GenFlynn', 'ntweets': 21},\n",
    " {'_id': 'Darren32895836', 'ntweets': 454},\n",
    " {'_id': 'VigilanteArtist', 'ntweets': 31},\n",
    " {'_id': 'Harlan', 'ntweets': 49},\n",
    " {'_id': 'DiamondandSilk', 'ntweets': 13}]\n",
    "```\n",
    "\n",
    "Nota: si no se ha podido hacer el ejercicio 1 utilizar el aggregate definido al principio de la práctica, o si no simplemente db.aggregate"
   ]
  },
  {
   "cell_type": "code",
   "execution_count": 111,
   "metadata": {},
   "outputs": [
    {
     "name": "stdout",
     "output_type": "stream",
     "text": [
      "Acceso a cache\n",
      "[{'_id': 'TeamTrump', 'ntweets': 302},\n",
      " {'_id': 'DanScavino', 'ntweets': 51},\n",
      " {'_id': 'IngrahamAngle', 'ntweets': 66},\n",
      " {'_id': 'JamesOKeefeIII', 'ntweets': 24},\n",
      " {'_id': 'LouDobbs', 'ntweets': 34},\n",
      " {'_id': 'GenFlynn', 'ntweets': 21},\n",
      " {'_id': 'VigilanteArtist', 'ntweets': 31},\n",
      " {'_id': 'DiamondandSilk', 'ntweets': 13},\n",
      " {'_id': 'DonaldJTrumpJr', 'ntweets': 75},\n",
      " {'_id': 'WDFx2EU7', 'ntweets': 104}]\n"
     ]
    }
   ],
   "source": [
    "# solución\n",
    "salida = aggregate(db,\"tweet\",[\n",
    "    {\"$group\":{\"_id\":\"$user.screen\", \"ntweets\":{\"$sum\": 1}}},\n",
    "    {\"$match\": {\"ntweets\": {\"$gte\": 10}}}\n",
    "])\n",
    "pprint(salida)\n"
   ]
  },
  {
   "cell_type": "markdown",
   "metadata": {},
   "source": [
    "### Pregunta 3\n",
    "La misma consulta que en la pregunta 2, pero mostrando solo al usuario con más tweets. \n",
    "\n",
    "Salida esperada:\n",
    "```    \n",
    "acceso a Mongo\n",
    "[{'_id': 'TrumpDynastyUSA', 'ntweets': 2000}]\n",
    "```"
   ]
  },
  {
   "cell_type": "code",
   "execution_count": 113,
   "metadata": {},
   "outputs": [
    {
     "name": "stdout",
     "output_type": "stream",
     "text": [
      "Acceso a cache\n",
      "[{'_id': 'TrumpDynastyUSA', 'ntweets': 2000}]\n"
     ]
    }
   ],
   "source": [
    "salida = aggregate(db,\"tweet\",[\n",
    "    {\"$group\":{\"_id\":\"$user.screen\", \"ntweets\":{\"$sum\": 1}}},\n",
    "    {\"$match\": {\"ntweets\": {\"$gte\": 10}}},\n",
    "    {\"$sort\": {\"ntweets\":-1}},\n",
    "    {\"$limit\": 1}\n",
    "])\n",
    "pprint(salida)"
   ]
  },
  {
   "cell_type": "markdown",
   "metadata": {},
   "source": [
    "### Pregunta 4\n",
    "En tweet, queremos saber qué usuarios han sido los más mencionados (campo mentions). Hacer que se muestre por pantalla una lista con cada usuario y su número de menciones, ordenado de más a menos menciones.\n",
    "\n",
    "Salida esperada:\n",
    "```\n",
    "acceso a Mongo\n",
    "[{'_id': 'HillaryClinton', 'total': 4832},\n",
    " {'_id': 'realDonaldTrump', 'total': 3976},\n",
    " {'_id': 'USFreedomArmy', 'total': 664},\n",
    " {'_id': 'DonaldTrumpVote', 'total': 629},\n",
    " {'_id': 'Karennola719', 'total': 623},\n",
    " {'_id': 'Jnbarke', 'total': 507},\n",
    " {'_id': 'POTUS', 'total': 324},\n",
    " {'_id': 'hillaryclinton', 'total': 179},\n",
    " {'_id': 'TeamTrump', 'total': 141},\n",
    " {'_id': 'FoxNews', 'total': 140}]\n",
    " ```"
   ]
  },
  {
   "cell_type": "code",
   "execution_count": 115,
   "metadata": {
    "scrolled": true
   },
   "outputs": [
    {
     "name": "stdout",
     "output_type": "stream",
     "text": [
      "Acceso a cache\n",
      "[{'_id': 'HillaryClinton', 'total': 4832},\n",
      " {'_id': 'realDonaldTrump', 'total': 3976},\n",
      " {'_id': 'USFreedomArmy', 'total': 664},\n",
      " {'_id': 'DonaldTrumpVote', 'total': 629},\n",
      " {'_id': 'Karennola719', 'total': 623},\n",
      " {'_id': 'Jnbarke', 'total': 507},\n",
      " {'_id': 'POTUS', 'total': 324},\n",
      " {'_id': 'hillaryclinton', 'total': 179},\n",
      " {'_id': 'TeamTrump', 'total': 141},\n",
      " {'_id': 'FoxNews', 'total': 140}]\n"
     ]
    }
   ],
   "source": [
    "salida = aggregate(db,\"tweet\",[\n",
    "    {\"$unwind\": \"$mentions\"},\n",
    "    {\"$group\":{\"_id\":\"$mentions\", \"total\":{\"$sum\": 1}}},\n",
    "    {\"$sort\": {\"total\":-1}}\n",
    "])\n",
    "pprint(salida)"
   ]
  },
  {
   "cell_type": "markdown",
   "metadata": {},
   "source": [
    "### Pregunta 5\n",
    "Número medio de seguidores (followers) de todos los usuarios en el dataset\n",
    "\n",
    "Salida esperada:\n",
    "```\n",
    "acceso a Mongo\n",
    "[{'_id': 0, 'media': 1561724.7375886524}]\n",
    "```"
   ]
  },
  {
   "cell_type": "code",
   "execution_count": 117,
   "metadata": {},
   "outputs": [
    {
     "name": "stdout",
     "output_type": "stream",
     "text": [
      "Acceso a cache\n",
      "[{'_id': 0, 'media': 1561724.7375886524}]\n"
     ]
    }
   ],
   "source": [
    "salida = aggregate(db,\"user\",[\n",
    "    {\"$group\": {\"_id\":0, \"media\":{\"$avg\":\"$followers\"}}}\n",
    "])\n",
    "pprint(salida)"
   ]
  },
  {
   "cell_type": "markdown",
   "metadata": {},
   "source": [
    "### Pregunta 6\n",
    "Para agrupar, por ejemplo por el año de creación del usuario podemos usar ```'_id'```:{'$year':\"$created_at\"}. Utilizar esta pista para mostrar un listado de usuarios ordenado por año de creación de su cuenta. También debe mostrarse el número medio de tweets totals emitidos por los usuarios con ese año de creación (clave *all* de la clave *tweets*). Debe salir algo como:\n",
    "\n",
    "```\n",
    "acceso a Mongo\n",
    "[{'_id': 2007, 'media': 113450.85714285714, 'total': 7},\n",
    " {'_id': 2008, 'media': 25509.18181818182, 'total': 11},\n",
    " {'_id': 2009, 'media': 20826.975, 'total': 40},\n",
    " {'_id': 2010, 'media': 32492.53846153846, 'total': 13},\n",
    " {'_id': 2011, 'media': 39527.6, 'total': 15},\n",
    " {'_id': 2012, 'media': 43158.769230769234, 'total': 13},\n",
    " {'_id': 2013, 'media': 78925.16666666667, 'total': 6},\n",
    " {'_id': 2014, 'media': 44603.166666666664, 'total': 6},\n",
    " {'_id': 2015, 'media': 13929.0, 'total': 13},\n",
    " {'_id': 2016, 'media': 10040.235294117647, 'total': 17}]\n",
    "```"
   ]
  },
  {
   "cell_type": "code",
   "execution_count": 119,
   "metadata": {
    "scrolled": true
   },
   "outputs": [
    {
     "name": "stdout",
     "output_type": "stream",
     "text": [
      "Acceso a cache\n",
      "[{'_id': 2007, 'media': 113450.85714285714, 'total': 7},\n",
      " {'_id': 2008, 'media': 25509.18181818182, 'total': 11},\n",
      " {'_id': 2009, 'media': 20826.975, 'total': 40},\n",
      " {'_id': 2010, 'media': 32492.53846153846, 'total': 13},\n",
      " {'_id': 2011, 'media': 39527.6, 'total': 15},\n",
      " {'_id': 2012, 'media': 43158.769230769234, 'total': 13},\n",
      " {'_id': 2013, 'media': 78925.16666666667, 'total': 6},\n",
      " {'_id': 2014, 'media': 44603.166666666664, 'total': 6},\n",
      " {'_id': 2015, 'media': 13929.0, 'total': 13},\n",
      " {'_id': 2016, 'media': 10040.235294117647, 'total': 17}]\n"
     ]
    }
   ],
   "source": [
    "salida = aggregate(db,\"user\",[\n",
    "    {\"$group\": {\"_id\":{\"$year\": \"$created_at\"}, \"media\":{\"$avg\":\"$tweets.all\"}, \"total\":{\"$sum\":1}}},\n",
    "    {\"$sort\": {\"_id\": 1}}\n",
    "])\n",
    "pprint(salida)"
   ]
  },
  {
   "cell_type": "markdown",
   "metadata": {},
   "source": [
    "### Pregunta 7 \n",
    "Repetir de nuevo la consulta de la pregunta 2, pero mostrando además para cada usuario qué proporción de los tweets son retweets (campo RT a True). \n",
    "\n",
    "Salida:\n",
    "\n",
    "```\n",
    "acceso a Mongo\n",
    "[{'_id': 'FoxNews', 'ntweets': 471, 'ratio': 0.040339702760084924},\n",
    " {'_id': 'DanScavino', 'ntweets': 51, 'ratio': 0.058823529411764705},\n",
    " {'_id': 'KellyannePolls', 'ntweets': 18, 'ratio': 0.1111111111111111},\n",
    " {'_id': 'LouDobbs', 'ntweets': 34, 'ratio': 0.11764705882352941},\n",
    " {'_id': 'FoxBusiness', 'ntweets': 271, 'ratio': 0.02952029520295203},\n",
    " {'_id': 'GenFlynn', 'ntweets': 21, 'ratio': 0.0},\n",
    " {'_id': 'Darren32895836', 'ntweets': 454, 'ratio': 0.7687224669603524},\n",
    " {'_id': 'VigilanteArtist', 'ntweets': 31, 'ratio': 0.8387096774193549},\n",
    " {'_id': 'Harlan', 'ntweets': 49, 'ratio': 0.5918367346938775},\n",
    " {'_id': 'DiamondandSilk', 'ntweets': 13, 'ratio': 0.46153846153846156}]\n",
    "``` "
   ]
  },
  {
   "cell_type": "code",
   "execution_count": 121,
   "metadata": {},
   "outputs": [
    {
     "name": "stdout",
     "output_type": "stream",
     "text": [
      "Acceso a cache\n",
      "[{'_id': 'TeamTrump', 'ntweets': 302, 'ratio': 0.4304635761589404},\n",
      " {'_id': 'DanScavino', 'ntweets': 51, 'ratio': 0.058823529411764705},\n",
      " {'_id': 'IngrahamAngle', 'ntweets': 66, 'ratio': 0.10606060606060606},\n",
      " {'_id': 'JamesOKeefeIII', 'ntweets': 24, 'ratio': 0.5},\n",
      " {'_id': 'LouDobbs', 'ntweets': 34, 'ratio': 0.11764705882352941},\n",
      " {'_id': 'GenFlynn', 'ntweets': 21, 'ratio': 0.0},\n",
      " {'_id': 'VigilanteArtist', 'ntweets': 31, 'ratio': 0.8387096774193549},\n",
      " {'_id': 'DiamondandSilk', 'ntweets': 13, 'ratio': 0.46153846153846156},\n",
      " {'_id': 'DonaldJTrumpJr', 'ntweets': 75, 'ratio': 0.8933333333333333},\n",
      " {'_id': 'WDFx2EU7', 'ntweets': 104, 'ratio': 0.3942307692307692}]\n"
     ]
    }
   ],
   "source": [
    "salida = aggregate(db,\"tweet\",[\n",
    "    {\"$project\": {\n",
    "        \"_id\":0,\n",
    "        \"user\":1,\n",
    "        \"trues\": {\"$cond\":[{\"$eq\":['$RT', True]}, 1, 0]}\n",
    "    }},\n",
    "    {\"$group\":{\"_id\":\"$user.screen\", \"ntweets\":{\"$sum\": 1}, \"rtTrue\":{\"$sum\":\"$trues\"} }},\n",
    "    {\"$project\": {\n",
    "        \"_id\":1,\n",
    "        \"ntweets\":1,\n",
    "        \"ratio\":{\"$divide\":[\"$rtTrue\", \"$ntweets\"]}\n",
    "    }}\n",
    "])\n",
    "pprint(salida)"
   ]
  },
  {
   "cell_type": "markdown",
   "metadata": {},
   "source": [
    "### Pregunta 8 (2 puntos)\n",
    "\n",
    "Vamos a escribir una nueva versión de aggregate con las siguientes ideas:\n",
    "\n",
    "Ahora ya no queremos que la consulta expire del caché a los 5 segundos, en lugar de eso queremos guardar las últimas 6 consultas. Es decir cuando llega una nueva consulta diferente de las que ya hay se añade si todavía no hay 6 almacenadas. Si sí que hay 6 eliminará la más antigua y almacenará la nueva.\n",
    "\n",
    "Habrá que usar alguna estructura (listas, hash, set, lo que queráis).\n",
    "\n",
    "Nota: no hace falta hacer que funcione en un entorno concurrente, no preocuparse por condiciones de carrera, atomicidad, etc.\n"
   ]
  },
  {
   "cell_type": "code",
   "execution_count": 107,
   "metadata": {},
   "outputs": [],
   "source": [
    "def aggregate(db,coleccion,pipeline):\n",
    "    pipe = pipeline.copy() # para no modificar lo que nos da el usuario\n",
    "    pipe.append({\"$limit\":10}) # añadimos una etapa que limita a 10\n",
    "    \n",
    "    queryString = json.dumps(pipe)\n",
    "    if r.hexists(\"consultas\", queryString):\n",
    "        queryResult = r.hget(\"consultas\", queryString)\n",
    "        print(\"Acceso a cache\")\n",
    "        return json.loads(queryResult)\n",
    "    else:\n",
    "        res = db[coleccion].aggregate(pipe) # a mongo!\n",
    "        salida = [doc for doc in res]\n",
    "        \n",
    "        if r.llen(\"antiguedad\") is 6:\n",
    "            oldQuery = r.rpop(\"antiguedad\")\n",
    "            r.hdel(\"consultas\", oldQuery)\n",
    "            \n",
    "        r.hset(\"consultas\", queryString, json.dumps(salida))\n",
    "        r.lpush(\"antiguedad\", queryString)\n",
    "            \n",
    "        print(\"Acceso a Mongo\")\n",
    "        return salida"
   ]
  },
  {
   "cell_type": "code",
   "execution_count": null,
   "metadata": {},
   "outputs": [],
   "source": []
  }
 ],
 "metadata": {
  "kernelspec": {
   "display_name": "Python 3",
   "language": "python",
   "name": "python3"
  },
  "language_info": {
   "codemirror_mode": {
    "name": "ipython",
    "version": 3
   },
   "file_extension": ".py",
   "mimetype": "text/x-python",
   "name": "python",
   "nbconvert_exporter": "python",
   "pygments_lexer": "ipython3",
   "version": "3.7.6"
  }
 },
 "nbformat": 4,
 "nbformat_minor": 2
}
