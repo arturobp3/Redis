{
 "cells": [
  {
   "cell_type": "markdown",
   "metadata": {},
   "source": [
    "\n",
    "![title](https://ucm.es/themes/ucm16/media/img/logo.png)\n",
    "\n",
    "# Bases de datos NoSQL\n",
    "\n",
    "### Redis. Servicios de publicación/subscripción\n",
    "\n",
    "Rafael Caballero\n",
    "\n",
    "**Índice**\n",
    "\n",
    "[Introducción](#Introducción)<br>\n",
    "[Iniciar Servicio de publicación/subscripción](#Iniciar-Servicio-de-publicación/subscripción)<br>\n",
    "[Publicación](#Publicación)<br>\n",
    "[Subscripción](#Subscripción)<br>\n",
    "[Estructura del mensaje](#Estructura-del-mensaje)<br>\n",
    "[Patrones](#Patrones)<br>\n",
    "[Modelos de lectura](#Modelos-de-lectura)<br>\n",
    "[Enlaces de interés](#Enlaces-de-interés)<br>"
   ]
  },
  {
   "cell_type": "markdown",
   "metadata": {},
   "source": [
    "## Introducción\n"
   ]
  },
  {
   "cell_type": "markdown",
   "metadata": {},
   "source": [
    "Antes de nada conectamos a redis"
   ]
  },
  {
   "cell_type": "code",
   "execution_count": 1,
   "metadata": {},
   "outputs": [
    {
     "data": {
      "text/plain": [
       "True"
      ]
     },
     "execution_count": 1,
     "metadata": {},
     "output_type": "execute_result"
    }
   ],
   "source": [
    "# Ojo, cambiar estos datos por los de vuestro acceso a red en redislabs\n",
    "\n",
    "redisconexion = \"redis-13665.c55.eu-central-1-1.ec2.cloud.redislabs.com\"\n",
    "redispuerto = 13665\n",
    "passwd = \"csVe77ZtQL7sKQocZZHUlnjmSf0WpGxE\"\n",
    "\n",
    "import redis\n",
    "r = redis.Redis(host=redisconexion, password=passwd, port=redispuerto, charset=\"utf-8\", decode_responses=True, db=0)\n",
    "r.ping() # debe mostrar True"
   ]
  },
  {
   "cell_type": "markdown",
   "metadata": {},
   "source": [
    "Seguramente todos conocemos el patrón productor/consumidor, típico de programación concurrente: \n",
    "\n",
    "![image.png](https://miro.medium.com/max/1002/1*38NMAj0WTa_LD3ojoWsytQ.png)\n",
    "\n",
    "En el patrón publicador/subscriptor el productor (aquí llamado publicador) se \"independiza\" del consumidor (aquí llamado subscriptor); se limita a publicar mensajes, normalmente en canales.\n",
    "\n",
    "Análogemente los subscriptores se \"apuntan\" o \"suscriben\" a los canales que les interesan sin saber qué publicadores hay. \n",
    "\n",
    "Una diferencia importante es que cada suscriptor tiene su propio buzón, es decir cuando un suscriptor lee un mensaje no se lo quita a otro\n",
    "\n",
    "![image.png](https://realtimeapi.io/wp-content/uploads/2017/09/pubsub-1.png)"
   ]
  },
  {
   "cell_type": "markdown",
   "metadata": {},
   "source": [
    "## Iniciar Servicio de publicación/subscripción"
   ]
  },
  {
   "cell_type": "code",
   "execution_count": 9,
   "metadata": {},
   "outputs": [
    {
     "data": {
      "text/plain": [
       "redis.client.PubSub"
      ]
     },
     "execution_count": 9,
     "metadata": {},
     "output_type": "execute_result"
    }
   ],
   "source": [
    "p = r.pubsub()  \n",
    "type(p)"
   ]
  },
  {
   "cell_type": "markdown",
   "metadata": {},
   "source": [
    "## Publicación"
   ]
  },
  {
   "cell_type": "markdown",
   "metadata": {},
   "source": [
    "Al publicar usamos la conexión a Redis y utilizamos el método publish\n",
    "\n",
    "    publish(canal, valor)\n",
    "\n",
    "donde tanto `canal` como `valor` son cadenas de caracteres.\n",
    "\n",
    "Por ejemplo, supongamos que en una aplicación web tenemos dos canales para cada cliente conectado, uno con su carrito de la compra y otro con los datos de su sesión.\n",
    "\n",
    "La siguiente información indica que Bertoldo ha comprado unos DVDs y herminia una TV. Finalmente también se publica que Bertoldo ha hecho logout.\n"
   ]
  },
  {
   "cell_type": "code",
   "execution_count": 10,
   "metadata": {},
   "outputs": [
    {
     "data": {
      "text/plain": [
       "1"
      ]
     },
     "execution_count": 10,
     "metadata": {},
     "output_type": "execute_result"
    }
   ],
   "source": [
    "r.publish('carrito-Bertoldo', 'DVDs Peppa Pig (edición del director)')\n",
    "r.publish('carrito-Herminia', 'TV Sony, modelo Gordoten')\n",
    "r.publish('sesion-Bertoldo','logout')"
   ]
  },
  {
   "cell_type": "markdown",
   "metadata": {},
   "source": [
    "He hecho de utilizar el prefijo 'carrito' o 'sesión' nos permitirá aprovechar una utilidad de Redis: los patrones."
   ]
  },
  {
   "cell_type": "markdown",
   "metadata": {},
   "source": [
    "## Subscripción"
   ]
  },
  {
   "cell_type": "markdown",
   "metadata": {},
   "source": [
    "Para suscribirnos basta con conocer el nombre del canal:"
   ]
  },
  {
   "cell_type": "code",
   "execution_count": 11,
   "metadata": {
    "scrolled": true
   },
   "outputs": [],
   "source": [
    "p.subscribe(\"sesion-Bertoldo\")"
   ]
  },
  {
   "cell_type": "markdown",
   "metadata": {},
   "source": [
    "Ahora podemos recibir mensajes:"
   ]
  },
  {
   "cell_type": "code",
   "execution_count": 12,
   "metadata": {},
   "outputs": [
    {
     "name": "stdout",
     "output_type": "stream",
     "text": [
      "{'type': 'subscribe', 'pattern': None, 'channel': 'sesion-Bertoldo', 'data': 1}\n"
     ]
    }
   ],
   "source": [
    "getmsg = p.get_message()\n",
    "print(getmsg)"
   ]
  },
  {
   "cell_type": "markdown",
   "metadata": {},
   "source": [
    "El mensaje:\n",
    "\n",
    "    {'type': 'subscribe', 'pattern': None, 'channel': 'sesion-Bertoldo', 'data': 1}\n",
    "    \n",
    "indica que nos hemos suscrito con éxito. Al subscribirse siempre recibimos en primer lugar este mensaje de \"bienvenida\". Ahora ya podemos leer mensajes de verdad"
   ]
  },
  {
   "cell_type": "code",
   "execution_count": 13,
   "metadata": {},
   "outputs": [
    {
     "name": "stdout",
     "output_type": "stream",
     "text": [
      "None\n"
     ]
    }
   ],
   "source": [
    "getmsg = p.get_message()\n",
    "print(getmsg)"
   ]
  },
  {
   "cell_type": "markdown",
   "metadata": {},
   "source": [
    "¿Qué (censured) ha pasado?\n",
    "\n",
    "Lo que ocurre es que hay que suscribirse antes de que se publiquen los mensajes, no a posteriori"
   ]
  },
  {
   "cell_type": "code",
   "execution_count": 24,
   "metadata": {},
   "outputs": [
    {
     "name": "stdout",
     "output_type": "stream",
     "text": [
      "Subscriptor 1\n",
      "{'type': 'subscribe', 'pattern': None, 'channel': 'sesion-Bertoldo', 'data': 1}\n",
      "{'type': 'message', 'pattern': None, 'channel': 'sesion-Bertoldo', 'data': 'logout'}\n",
      "Subscriptor 2\n",
      "{'type': 'subscribe', 'pattern': None, 'channel': 'sesion-Bertoldo', 'data': 1}\n",
      "{'type': 'message', 'pattern': None, 'channel': 'sesion-Bertoldo', 'data': 'logout'}\n",
      "Subscriptor 3\n",
      "None\n",
      "None\n"
     ]
    }
   ],
   "source": [
    "s1 = r.pubsub()  \n",
    "s2 = r.pubsub()\n",
    "s3 = r.pubsub()\n",
    "s1.subscribe(\"sesion-Bertoldo\")\n",
    "s2.subscribe(\"sesion-Bertoldo\")\n",
    "\n",
    "#### aquí llega el publisher...esto sería otra aplicación\n",
    "\n",
    "r.publish('sesion-Bertoldo','logout')\n",
    "\n",
    "# un despistado\n",
    "s3.subscribe(\"sesion-Bertoldo\")\n",
    "\n",
    "\n",
    "### ahora a recibir mensajes\n",
    "\n",
    "print(\"Subscriptor 1\")\n",
    "getmsg = s1.get_message()\n",
    "print(getmsg)\n",
    "getmsg = s1.get_message()\n",
    "print(getmsg)\n",
    "\n",
    "print(\"Subscriptor 2\")\n",
    "getmsg = s2.get_message()\n",
    "print(getmsg)\n",
    "getmsg = s2.get_message()\n",
    "print(getmsg)\n",
    "\n",
    "print(\"Subscriptor 3\")\n",
    "getmsg = s3.get_message()\n",
    "print(getmsg)\n",
    "getmsg = s3.get_message()\n",
    "print(getmsg)\n",
    "\n",
    "\n",
    "# eliminamos las subscripciones\n",
    "s1.unsubscribe()\n",
    "s2.unsubscribe()\n",
    "s3.unsubscribe()\n"
   ]
  },
  {
   "cell_type": "markdown",
   "metadata": {},
   "source": [
    "## Estructura del mensaje"
   ]
  },
  {
   "cell_type": "markdown",
   "metadata": {},
   "source": [
    "El método `get_message` devuelve un diccionario Python con la siguiente estructura:\n",
    "\n",
    "* `Type`: Tipo del mensaje. Seis tipos: ‘subscribe’, ‘unsubscribe’, ‘psubscribe’, ‘punsubscribe’, ‘message’, ‘pmessage’\n",
    "\n",
    "* `Pattern`: Si encaja con algún patrón (ver más adelante)\n",
    "\n",
    "* `Channel`: Nombre del canal.\n",
    "\n",
    "* `Data`: Si el tipo es `pmessage`entonces contiene el mensaje.\n",
    "\n",
    "Ejemplo:"
   ]
  },
  {
   "cell_type": "code",
   "execution_count": 37,
   "metadata": {},
   "outputs": [
    {
     "data": {
      "text/plain": [
       "3"
      ]
     },
     "execution_count": 37,
     "metadata": {},
     "output_type": "execute_result"
    }
   ],
   "source": [
    "s1 = r.pubsub()  \n",
    "s2 = r.pubsub()\n",
    "s1.subscribe(\"c1\")\n",
    "s1.subscribe(\"c2\")\n",
    "s2.subscribe(\"c2\")\n",
    "\n",
    "#### aquí llega el publisher...esto sería otra aplicación\n",
    "\n",
    "r.publish('c1',1)\n",
    "r.publish('c2',2)\n",
    "\n"
   ]
  },
  {
   "cell_type": "code",
   "execution_count": 38,
   "metadata": {},
   "outputs": [
    {
     "name": "stdout",
     "output_type": "stream",
     "text": [
      "Subscriptor 1\n",
      "{'type': 'subscribe', 'pattern': None, 'channel': 'c1', 'data': 1}\n",
      "{'type': 'subscribe', 'pattern': None, 'channel': 'c2', 'data': 2}\n",
      "{'type': 'message', 'pattern': None, 'channel': 'c1', 'data': '1'}\n",
      "Subscriptor 2\n",
      "{'type': 'subscribe', 'pattern': None, 'channel': 'c2', 'data': 1}\n",
      "{'type': 'message', 'pattern': None, 'channel': 'c2', 'data': '2'}\n",
      "None\n"
     ]
    }
   ],
   "source": [
    "### ahora a recibir mensajes\n",
    "\n",
    "print(\"Subscriptor 1\")\n",
    "getmsg = s1.get_message()\n",
    "print(getmsg)\n",
    "getmsg = s1.get_message()\n",
    "print(getmsg)\n",
    "getmsg = s1.get_message() # qué escribirá este en concreto?\n",
    "print(getmsg)\n",
    "\n",
    "print(\"Subscriptor 2\")\n",
    "getmsg = s2.get_message()\n",
    "print(getmsg)\n",
    "getmsg = s2.get_message()\n",
    "print(getmsg)\n",
    "getmsg = s2.get_message() \n",
    "print(getmsg)\n",
    "\n",
    "# eliminamos las subscripciones\n",
    "s1.unsubscribe()\n",
    "s2.unsubscribe()"
   ]
  },
  {
   "cell_type": "markdown",
   "metadata": {},
   "source": [
    "## Patrones"
   ]
  },
  {
   "cell_type": "markdown",
   "metadata": {},
   "source": [
    "También se pueden utilizar patrones para suscribirse a varios canales a la vez. \n",
    "\n",
    "Supongamos que cada usuario tiene su propio carrito de la compra con el nombre `carrito-nombre`y queremos suscribirnos a todos a la vez\n"
   ]
  },
  {
   "cell_type": "code",
   "execution_count": 39,
   "metadata": {},
   "outputs": [
    {
     "name": "stdout",
     "output_type": "stream",
     "text": [
      "{'type': 'psubscribe', 'pattern': None, 'channel': 'carrito-*', 'data': 1}\n",
      "{'type': 'pmessage', 'pattern': 'carrito-*', 'channel': 'carrito-Bertoldo', 'data': 'DVDs Peppa Pig (edición del director)'}\n",
      "{'type': 'pmessage', 'pattern': 'carrito-*', 'channel': 'carrito-Herminia', 'data': 'TV Sony, modelo Gordoten'}\n",
      "None\n"
     ]
    }
   ],
   "source": [
    "carritos = r.pubsub()  \n",
    "carritos.psubscribe('carrito-*')\n",
    "\n",
    "r.publish('carrito-Bertoldo', 'DVDs Peppa Pig (edición del director)')\n",
    "r.publish('carrito-Herminia', 'TV Sony, modelo Gordoten')\n",
    "\n",
    "seguir = True\n",
    "while seguir:\n",
    "    getmsg = carritos.get_message()\n",
    "    print(getmsg)\n",
    "    seguir = getmsg != None\n",
    "\n",
    "# eliminamos las subscripciones\n",
    "carritos.unsubscribe()"
   ]
  },
  {
   "cell_type": "markdown",
   "metadata": {},
   "source": [
    "## Modelos de lectura"
   ]
  },
  {
   "cell_type": "markdown",
   "metadata": {},
   "source": [
    "Si se espera un flujo de mensajes, el subscriptor tiene varias posibilidades.\n",
    "\n",
    "La primera es utilizar `get_message` que, como hemos visto, es asíncrono:"
   ]
  },
  {
   "cell_type": "code",
   "execution_count": 49,
   "metadata": {},
   "outputs": [
    {
     "name": "stdout",
     "output_type": "stream",
     "text": [
      "Moviendo ratón\n",
      "Leyendo movimiento ratonil\n",
      "100 50\n"
     ]
    }
   ],
   "source": [
    "import time\n",
    "## preparamos la subscripción\n",
    "raton = r.pubsub()\n",
    "raton.subscribe(\"raton\")\n",
    "\n",
    "# aquí se publican los mensajes, esto iría en otra aplicación\n",
    "print(\"Moviendo ratón\")\n",
    "for i in range(50):\n",
    "    r.publish('raton', 'arriba')\n",
    "for i in range(100):\n",
    "    r.publish('raton', 'derecha')\n",
    "r.publish('raton', 'queso!')\n",
    "\n",
    "\n",
    "# coordenadas de un imaginario ratón\n",
    "print(\"Leyendo movimiento ratonil\")\n",
    "x=0\n",
    "y=0\n",
    "seguir = True\n",
    "while seguir:\n",
    "    message = raton.get_message()\n",
    "    if message:\n",
    "        datos = message[\"data\"]\n",
    "        #print(datos)\n",
    "        if datos==\"arriba\":\n",
    "            y+=1\n",
    "        elif datos==\"abajo\":\n",
    "            y-=1\n",
    "        elif datos==\"derecha\": \n",
    "            x+=1\n",
    "        elif datos==\"izquierda\": \n",
    "            x-=1 \n",
    "        elif datos==\"queso!\": \n",
    "            seguir = False\n",
    "    else:\n",
    "        # no hay mensajes, podemos ocuparnos de otros asuntos\n",
    "        time.sleep(0.01) \n",
    "\n",
    "print(x,y)\n",
    "# eliminamos las subscripciones\n",
    "raton.unsubscribe()"
   ]
  },
  {
   "cell_type": "code",
   "execution_count": 46,
   "metadata": {},
   "outputs": [],
   "source": [
    "ordenes.unsubscribe()"
   ]
  },
  {
   "cell_type": "markdown",
   "metadata": {},
   "source": [
    "## Enlaces de interés"
   ]
  },
  {
   "cell_type": "markdown",
   "metadata": {},
   "source": [
    "* Para entender mejor el problema del productor consumidor en el contexto de la programación concurrente podéis ver este [vídeo](https://www.youtube.com/watch?v=LRiN3DJdskA)<br>\n",
    "\n",
    "* [Información de Redis sobre publicación subscripción](https://redis.io/topics/pubsub) <br>\n",
    "\n",
    "* La [documentación de redis-py](https://github.com/andymccurdy/redis-py#publish--subscribe) tiene información detallada sbbre su uso desde Python<br>\n",
    "\n",
    "\n",
    "* Para publicación subscripción hay otras aplicaciones que os pueden interesar. Se las suele denominar \"message brokers\" y entre otras podéis mirar [Apache Kafka](https://kafka.apache.org/) para entornos Hadoop / big data, [RabbitMQ](https://www.rabbitmq.com/). [Aquí](https://www.cloudamqp.com/blog/2019-12-12-when-to-use-rabbitmq-or-apache-kafka.html) tenéis una comparación entre ambos. En este [otro enlace](https://blog.scottlogic.com/2018/04/17/comparing-big-data-messaging.html) presentan otras alternativas"
   ]
  },
  {
   "cell_type": "code",
   "execution_count": null,
   "metadata": {},
   "outputs": [],
   "source": []
  }
 ],
 "metadata": {
  "kernelspec": {
   "display_name": "Python 3",
   "language": "python",
   "name": "python3"
  },
  "language_info": {
   "codemirror_mode": {
    "name": "ipython",
    "version": 3
   },
   "file_extension": ".py",
   "mimetype": "text/x-python",
   "name": "python",
   "nbconvert_exporter": "python",
   "pygments_lexer": "ipython3",
   "version": "3.7.6"
  }
 },
 "nbformat": 4,
 "nbformat_minor": 2
}
