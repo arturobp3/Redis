{
 "cells": [
  {
   "cell_type": "markdown",
   "metadata": {},
   "source": [
    "![title](https://ucm.es/themes/ucm16/media/img/logo.png)\n",
    "\n",
    "# Bases de datos NoSQL\n",
    "\n",
    "### Práctica Redis. Servicios de publicación/subscripción \n",
    "\n",
    "#### Parte 1. Publicación\n",
    "\n",
    "Vamos a publicar las noticias de una página web- Necesitaremos las bibliotecas:\n",
    "\n",
    "* requests: para bajar páginas completas a partir de la url\n",
    "* bs4: beatifulsoap, para procesar los htmls buscando las cabeceras\n",
    "\n",
    "Si no tenemos instala alguna de ellas, desde una consola de Anaconda (Anaconda prompt)\n",
    "\n",
    "    pip install bs4\n",
    "    pip install requests\n",
    "\n",
    "Lo primero,  el nombre:"
   ]
  },
  {
   "cell_type": "markdown",
   "metadata": {},
   "source": [
    "Nombre: Arturo Barbero Pérez"
   ]
  },
  {
   "cell_type": "markdown",
   "metadata": {},
   "source": [
    "Ahora conectamos a Redis. Es importante que cambieis los datos por los de vuestra cuenta, para no saturar el servidor"
   ]
  },
  {
   "cell_type": "code",
   "execution_count": 1,
   "metadata": {},
   "outputs": [
    {
     "data": {
      "text/plain": [
       "True"
      ]
     },
     "execution_count": 1,
     "metadata": {},
     "output_type": "execute_result"
    }
   ],
   "source": [
    "# Ojo, cambiar estos datos por los de vuestro acceso a red en redislabs\n",
    "redisconexion = \"redis-12588.c135.eu-central-1-1.ec2.cloud.redislabs.com\"\n",
    "redispuerto = 12588\n",
    "passwd = \"YNUBRlaFh6kJnTKfDxsXur44M3jOkNqy\"\n",
    "\n",
    "import redis\n",
    "r = redis.Redis(host=redisconexion, password=passwd, port=redispuerto, charset=\"utf-8\", decode_responses=True, db=0)\n",
    "r.ping() # debe mostrar True"
   ]
  },
  {
   "cell_type": "markdown",
   "metadata": {},
   "source": [
    "### Pregunta 1: 4 puntos\n",
    "\n",
    "La siguiente función es la que tenéis que modificar. Le van a ir llegando titulares, que son strings. Ahora mismo solo los muestra por pantalla, pero hay que reemplazar el print por vuestro código.\n",
    "\n",
    "En particular:\n",
    "\n",
    "* Si el titular contiene al menos un símbolo monetario ('₹','$','£','€') seguidos por un dígito dígito 0,1...9, debe enviarse por el canal `news-money`\n",
    "\n",
    "* Si no se da el caso anterior, pero el titular contiene alguna de las palabras del array \"especiales\" enviará la noticia por el canal `news-selected`.  Nota: basta con que tenga la secuencia de caracteres consecutivos, no hace falta mirar si tiene espacio antes o después, etc. Por ejemplo la palabra 'abra' estaría según estadefinición dentro de la frase \"y dijo ¡abracadabra!\"\n",
    "\n",
    "* En otro caso enviará  por `news-other`\n",
    "\n",
    "Completar las funciones  `contiene_monetario`, `contiene_selected`y utilizarlas en trata_titular para publicar cada titular en el canal adecuado \n"
   ]
  },
  {
   "cell_type": "code",
   "execution_count": 91,
   "metadata": {},
   "outputs": [],
   "source": [
    "# Utilizo expresiones regulares para parsear el string\n",
    "import re\n",
    "\n",
    "# La expresión tiene que tener la forma: (digit + al menos un simbolo), o lo contrario. \n",
    "def contiene_monetario(titular, simbolos = ['₹','$','£','€']):\n",
    "    symbols = \"\".join(simbolos)\n",
    "    expression = \"\\d+[\" + symbols + \"]|[\" + symbols +\"]\\d+\"                                      \n",
    "    foundResults = re.findall(expression, titular)\n",
    "    if(foundResults):\n",
    "        return True\n",
    "    else:\n",
    "        return False\n",
    "    \n",
    "    \n",
    "# comprueba si 'titular' tiene una palabra especial\n",
    "# devuelve True en el primer caso o False en otro caso\n",
    "def contiene_selected(titular, especiales = [\"US\", \"India\", \"Spain\", \"UK\", \"Trump\"]):\n",
    "    specials = \"|\".join(especiales)\n",
    "    foundResults = re.findall(specials, titular)\n",
    "    if foundResults:\n",
    "        return True\n",
    "    else:\n",
    "        return False\n",
    "    \n",
    "\n",
    "# publica el titular o bien en 'news-money', o en 'news-selected' o en 'news-other'        \n",
    "def trata_titular(titular):\n",
    "    if contiene_monetario(titular):\n",
    "        r.publish(\"news-money\", titular)\n",
    "    elif contiene_selected(titular):\n",
    "        r.publish(\"news-selected\", titular)\n",
    "    else:\n",
    "        r.publish(\"news-other\", titular)"
   ]
  },
  {
   "cell_type": "markdown",
   "metadata": {},
   "source": [
    "Se puede usar este código para probar `contiene_monetario` y `contiene_selected`. Debe mostrar\n",
    "\n",
    "\n",
    "    False\n",
    "    True\n",
    "    True\n",
    "    True\n",
    "    False"
   ]
  },
  {
   "cell_type": "code",
   "execution_count": 92,
   "metadata": {},
   "outputs": [
    {
     "name": "stdout",
     "output_type": "stream",
     "text": [
      "False\n",
      "True\n",
      "True\n",
      "True\n",
      "False\n"
     ]
    }
   ],
   "source": [
    "# debe devolver false\n",
    "print(contiene_monetario(\"Railways announces 2.3 lakh vacancies; 10% EWS quota applicable\"))\n",
    "# debe devolver true\n",
    "print(contiene_monetario(\"Zynga Co-founder raising $700 mn for investment fund\"))\n",
    "# debe devolver true\n",
    "print(contiene_selected(\"Self-driving robots to deliver food on US university campus\"))\n",
    "# debe devolver true\n",
    "print(contiene_selected(\"Wonderful work of Indian cinema: Sadhguru on 'Manikarnika'\"))\n",
    "# debe devolver false\n",
    "print(contiene_selected(\"Your sense of sanctity does not lie in your body: Swara Bhasker\"))\n"
   ]
  },
  {
   "cell_type": "markdown",
   "metadata": {},
   "source": [
    "### Publisher\n",
    "\n",
    "La siguiente casilla de código es la que debemos ejecutar antes de hacer cualquier prueba tras una subscripción, para alimentar al subscriptor de mensajes. No hay que tocar ni cambiar nada.\n",
    "\n",
    "El código baja titulares  de forma continua hasta alcanzar las 100 noticias.  Para cada titular llama a la función anterior `trata_titular`. Lo he sacado de este sitio:\n",
    "\n",
    "https://www.pythoncircle.com/post/678/python-script-14-scraping-news-headlines-using-python-beautifulsoup/\n"
   ]
  },
  {
   "cell_type": "code",
   "execution_count": 96,
   "metadata": {},
   "outputs": [],
   "source": [
    "import requests\n",
    "from bs4 import BeautifulSoup\n",
    "import json\n",
    "\n",
    "MAX_NEWS = 100\n",
    "\n",
    "\n",
    "def headlines(response_text):\n",
    "    total = 0\n",
    "    soup = BeautifulSoup(response_text, 'lxml')\n",
    "    headlines = soup.find_all(attrs={\"itemprop\": \"headline\"})\n",
    "    for headline in headlines:\n",
    "        trata_titular(headline.text)\n",
    "        total+=1\n",
    "    return total\n",
    "\n",
    "\n",
    "def get_headers():\n",
    "    return {\n",
    "        \"accept\": \"*/*\",\n",
    "        \"accept-encoding\": \"gzip, deflate, br\",\n",
    "        \"accept-language\": \"en-IN,en-US;q=0.9,en;q=0.8\",\n",
    "        \"content-type\": \"application/x-www-form-urlencoded; charset=UTF-8\",\n",
    "        \"cookie\": \"_ga=GA1.2.474379061.1548476083; _gid=GA1.2.251903072.1548476083; __gads=ID=17fd29a6d34048fc:T=1548476085:S=ALNI_MaRiLYBFlMfKNMAtiW0J3b_o0XGxw\",\n",
    "        \"origin\": \"https://inshorts.com\",\n",
    "        \"referer\": \"https://inshorts.com/en/read/\",\n",
    "        \"user-agent\": \"Mozilla/5.0 (X11; Linux x86_64) AppleWebKit/537.36 (KHTML, like Gecko) Chrome/71.0.3578.98 Safari/537.36\",\n",
    "        \"x-requested-with\": \"XMLHttpRequest\"\n",
    "    }\n",
    "\n",
    "\n",
    "url = 'https://inshorts.com/en/read'\n",
    "response = requests.get(url)\n",
    "total = headlines(response.text)\n",
    "\n",
    "# get more news\n",
    "url = 'https://inshorts.com/en/ajax/more_news'\n",
    "news_offset = \"apwuhnrm-1\"\n",
    "\n",
    "while total<MAX_NEWS:\n",
    "    response = requests.post(url, data={\"category\": \"\", \"news_offset\": news_offset}, headers=get_headers())\n",
    "    if response.status_code != 200:\n",
    "        print(response.status_code)\n",
    "        break\n",
    "\n",
    "    response_json = json.loads(response.text)\n",
    "    total += headlines(response_json[\"html\"])\n",
    "    news_offset = response_json[\"min_news_id\"]"
   ]
  },
  {
   "cell_type": "code",
   "execution_count": null,
   "metadata": {},
   "outputs": [],
   "source": []
  }
 ],
 "metadata": {
  "kernelspec": {
   "display_name": "Python 3",
   "language": "python",
   "name": "python3"
  },
  "language_info": {
   "codemirror_mode": {
    "name": "ipython",
    "version": 3
   },
   "file_extension": ".py",
   "mimetype": "text/x-python",
   "name": "python",
   "nbconvert_exporter": "python",
   "pygments_lexer": "ipython3",
   "version": "3.7.6"
  }
 },
 "nbformat": 4,
 "nbformat_minor": 2
}
